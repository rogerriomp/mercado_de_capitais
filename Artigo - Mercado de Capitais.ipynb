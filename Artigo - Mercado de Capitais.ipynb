{
 "cells": [
  {
   "cell_type": "code",
   "execution_count": 57,
   "id": "b94fd799",
   "metadata": {
    "scrolled": true
   },
   "outputs": [],
   "source": [
    "import pandas as pd\n",
    "import numpy as np\n",
    "\n",
    "import io\n",
    "from PIL import Image\n",
    "\n",
    "import matplotlib.pyplot as plt\n",
    "import seaborn as sns\n",
    "import datetime\n",
    "from datetime import timedelta\n",
    "\n",
    "import pypfopt as pt\n",
    "from beeprint import pp"
   ]
  },
  {
   "cell_type": "code",
   "execution_count": 3,
   "id": "12d9e2f4",
   "metadata": {
    "scrolled": true
   },
   "outputs": [],
   "source": [
    "df = pd.read_excel('4_portfolios_sorted_by_size_and_illiquidity_2x2.xls')\n",
    "#df = pd.read_excel('7_portfolios_sorted_by_industry.xls')"
   ]
  },
  {
   "cell_type": "code",
   "execution_count": 4,
   "id": "5dfe3f25",
   "metadata": {
    "scrolled": true
   },
   "outputs": [],
   "source": [
    "df.year = df.year.astype('str')\n",
    "df.month = df.month.astype('str')\n",
    "df.day = df.day.astype('str')"
   ]
  },
  {
   "cell_type": "code",
   "execution_count": 5,
   "id": "dacfa4ad",
   "metadata": {
    "scrolled": true
   },
   "outputs": [],
   "source": [
    "df['data'] = df['year']+'-'+df['month']+'-'+df['day']"
   ]
  },
  {
   "cell_type": "code",
   "execution_count": 6,
   "id": "8a9c125e",
   "metadata": {
    "scrolled": true
   },
   "outputs": [],
   "source": [
    "df['data'] = pd.to_datetime(df['data'])"
   ]
  },
  {
   "cell_type": "code",
   "execution_count": 7,
   "id": "e75147f8",
   "metadata": {
    "scrolled": true
   },
   "outputs": [],
   "source": [
    "df.set_index('data',inplace=True)"
   ]
  },
  {
   "cell_type": "code",
   "execution_count": 8,
   "id": "2f0573da",
   "metadata": {
    "scrolled": true
   },
   "outputs": [],
   "source": [
    "df.drop(['year','month','day'],axis=1,inplace=True)"
   ]
  },
  {
   "cell_type": "code",
   "execution_count": 9,
   "id": "b3407423",
   "metadata": {
    "scrolled": true
   },
   "outputs": [
    {
     "data": {
      "text/html": [
       "<div>\n",
       "<style scoped>\n",
       "    .dataframe tbody tr th:only-of-type {\n",
       "        vertical-align: middle;\n",
       "    }\n",
       "\n",
       "    .dataframe tbody tr th {\n",
       "        vertical-align: top;\n",
       "    }\n",
       "\n",
       "    .dataframe thead th {\n",
       "        text-align: right;\n",
       "    }\n",
       "</style>\n",
       "<table border=\"1\" class=\"dataframe\">\n",
       "  <thead>\n",
       "    <tr style=\"text-align: right;\">\n",
       "      <th></th>\n",
       "      <th>Size1_ILLIQ1</th>\n",
       "      <th>Size1_ILLIQ2</th>\n",
       "      <th>Size2_ILLIQ1</th>\n",
       "      <th>Size2_ILLIQ2</th>\n",
       "    </tr>\n",
       "    <tr>\n",
       "      <th>data</th>\n",
       "      <th></th>\n",
       "      <th></th>\n",
       "      <th></th>\n",
       "      <th></th>\n",
       "    </tr>\n",
       "  </thead>\n",
       "  <tbody>\n",
       "    <tr>\n",
       "      <th>2001-01-02</th>\n",
       "      <td>0.249266</td>\n",
       "      <td>0.011374</td>\n",
       "      <td>-0.006851</td>\n",
       "      <td>0.002792</td>\n",
       "    </tr>\n",
       "    <tr>\n",
       "      <th>2001-01-03</th>\n",
       "      <td>0.038109</td>\n",
       "      <td>0.089353</td>\n",
       "      <td>0.078678</td>\n",
       "      <td>0.063380</td>\n",
       "    </tr>\n",
       "    <tr>\n",
       "      <th>2001-01-04</th>\n",
       "      <td>0.001835</td>\n",
       "      <td>-0.005483</td>\n",
       "      <td>0.002131</td>\n",
       "      <td>-0.017793</td>\n",
       "    </tr>\n",
       "    <tr>\n",
       "      <th>2001-01-05</th>\n",
       "      <td>-0.002896</td>\n",
       "      <td>0.002998</td>\n",
       "      <td>-0.019888</td>\n",
       "      <td>-0.015397</td>\n",
       "    </tr>\n",
       "    <tr>\n",
       "      <th>2001-01-08</th>\n",
       "      <td>0.013769</td>\n",
       "      <td>0.004072</td>\n",
       "      <td>0.004629</td>\n",
       "      <td>0.004749</td>\n",
       "    </tr>\n",
       "    <tr>\n",
       "      <th>...</th>\n",
       "      <td>...</td>\n",
       "      <td>...</td>\n",
       "      <td>...</td>\n",
       "      <td>...</td>\n",
       "    </tr>\n",
       "    <tr>\n",
       "      <th>2022-06-24</th>\n",
       "      <td>-0.000810</td>\n",
       "      <td>-0.002672</td>\n",
       "      <td>0.002274</td>\n",
       "      <td>-0.005679</td>\n",
       "    </tr>\n",
       "    <tr>\n",
       "      <th>2022-06-27</th>\n",
       "      <td>-0.014636</td>\n",
       "      <td>0.005477</td>\n",
       "      <td>0.009685</td>\n",
       "      <td>0.009564</td>\n",
       "    </tr>\n",
       "    <tr>\n",
       "      <th>2022-06-28</th>\n",
       "      <td>-0.022634</td>\n",
       "      <td>-0.020941</td>\n",
       "      <td>-0.005422</td>\n",
       "      <td>-0.012261</td>\n",
       "    </tr>\n",
       "    <tr>\n",
       "      <th>2022-06-29</th>\n",
       "      <td>-0.022535</td>\n",
       "      <td>-0.017098</td>\n",
       "      <td>-0.009615</td>\n",
       "      <td>-0.004911</td>\n",
       "    </tr>\n",
       "    <tr>\n",
       "      <th>2022-06-30</th>\n",
       "      <td>-0.021304</td>\n",
       "      <td>-0.009127</td>\n",
       "      <td>-0.010655</td>\n",
       "      <td>-0.009605</td>\n",
       "    </tr>\n",
       "  </tbody>\n",
       "</table>\n",
       "<p>5321 rows × 4 columns</p>\n",
       "</div>"
      ],
      "text/plain": [
       "            Size1_ILLIQ1  Size1_ILLIQ2  Size2_ILLIQ1  Size2_ILLIQ2\n",
       "data                                                              \n",
       "2001-01-02      0.249266      0.011374     -0.006851      0.002792\n",
       "2001-01-03      0.038109      0.089353      0.078678      0.063380\n",
       "2001-01-04      0.001835     -0.005483      0.002131     -0.017793\n",
       "2001-01-05     -0.002896      0.002998     -0.019888     -0.015397\n",
       "2001-01-08      0.013769      0.004072      0.004629      0.004749\n",
       "...                  ...           ...           ...           ...\n",
       "2022-06-24     -0.000810     -0.002672      0.002274     -0.005679\n",
       "2022-06-27     -0.014636      0.005477      0.009685      0.009564\n",
       "2022-06-28     -0.022634     -0.020941     -0.005422     -0.012261\n",
       "2022-06-29     -0.022535     -0.017098     -0.009615     -0.004911\n",
       "2022-06-30     -0.021304     -0.009127     -0.010655     -0.009605\n",
       "\n",
       "[5321 rows x 4 columns]"
      ]
     },
     "execution_count": 9,
     "metadata": {},
     "output_type": "execute_result"
    }
   ],
   "source": [
    "df"
   ]
  },
  {
   "cell_type": "code",
   "execution_count": 10,
   "id": "0b73d916",
   "metadata": {
    "scrolled": true
   },
   "outputs": [],
   "source": [
    "retorno_cripto = pd.read_csv('retornos_cripto.csv')\n"
   ]
  },
  {
   "cell_type": "code",
   "execution_count": 11,
   "id": "a963e9d1",
   "metadata": {
    "scrolled": true
   },
   "outputs": [],
   "source": [
    "retorno_cripto.set_index('Date',inplace=True)\n",
    "retorno_cripto.index = pd.to_datetime(retorno_cripto.index)"
   ]
  },
  {
   "cell_type": "code",
   "execution_count": 12,
   "id": "9195ad1f",
   "metadata": {
    "scrolled": true
   },
   "outputs": [],
   "source": [
    "df = pd.concat([df, retorno_cripto], axis=1)"
   ]
  },
  {
   "cell_type": "code",
   "execution_count": 13,
   "id": "14dbbde4",
   "metadata": {
    "scrolled": true
   },
   "outputs": [
    {
     "data": {
      "text/plain": [
       "pandas.core.indexes.datetimes.DatetimeIndex"
      ]
     },
     "execution_count": 13,
     "metadata": {},
     "output_type": "execute_result"
    }
   ],
   "source": [
    "type(retorno_cripto.index)"
   ]
  },
  {
   "cell_type": "code",
   "execution_count": 14,
   "id": "3c0b4b58",
   "metadata": {
    "scrolled": true
   },
   "outputs": [
    {
     "data": {
      "text/plain": [
       "pandas.core.indexes.datetimes.DatetimeIndex"
      ]
     },
     "execution_count": 14,
     "metadata": {},
     "output_type": "execute_result"
    }
   ],
   "source": [
    "type(df.index)"
   ]
  },
  {
   "cell_type": "code",
   "execution_count": null,
   "id": "718c3fee",
   "metadata": {
    "scrolled": true
   },
   "outputs": [],
   "source": []
  },
  {
   "cell_type": "code",
   "execution_count": 15,
   "id": "91d73dac",
   "metadata": {
    "scrolled": true
   },
   "outputs": [],
   "source": [
    "df = df.dropna()"
   ]
  },
  {
   "cell_type": "code",
   "execution_count": 16,
   "id": "0c892ef6",
   "metadata": {
    "scrolled": true
   },
   "outputs": [
    {
     "data": {
      "text/html": [
       "<div>\n",
       "<style scoped>\n",
       "    .dataframe tbody tr th:only-of-type {\n",
       "        vertical-align: middle;\n",
       "    }\n",
       "\n",
       "    .dataframe tbody tr th {\n",
       "        vertical-align: top;\n",
       "    }\n",
       "\n",
       "    .dataframe thead th {\n",
       "        text-align: right;\n",
       "    }\n",
       "</style>\n",
       "<table border=\"1\" class=\"dataframe\">\n",
       "  <thead>\n",
       "    <tr style=\"text-align: right;\">\n",
       "      <th></th>\n",
       "      <th>Size1_ILLIQ1</th>\n",
       "      <th>Size1_ILLIQ2</th>\n",
       "      <th>Size2_ILLIQ1</th>\n",
       "      <th>Size2_ILLIQ2</th>\n",
       "      <th>Bitcoin</th>\n",
       "      <th>Ethereum</th>\n",
       "      <th>Litecoin</th>\n",
       "    </tr>\n",
       "  </thead>\n",
       "  <tbody>\n",
       "    <tr>\n",
       "      <th>2016-08-25</th>\n",
       "      <td>-0.002560</td>\n",
       "      <td>-0.006534</td>\n",
       "      <td>0.000523</td>\n",
       "      <td>-0.000906</td>\n",
       "      <td>0.000468</td>\n",
       "      <td>0.040878</td>\n",
       "      <td>-0.004429</td>\n",
       "    </tr>\n",
       "    <tr>\n",
       "      <th>2016-08-26</th>\n",
       "      <td>0.005114</td>\n",
       "      <td>0.002618</td>\n",
       "      <td>0.001137</td>\n",
       "      <td>-0.005101</td>\n",
       "      <td>0.011342</td>\n",
       "      <td>-0.006160</td>\n",
       "      <td>0.008898</td>\n",
       "    </tr>\n",
       "    <tr>\n",
       "      <th>2016-08-29</th>\n",
       "      <td>0.012452</td>\n",
       "      <td>0.008877</td>\n",
       "      <td>0.014567</td>\n",
       "      <td>0.007465</td>\n",
       "      <td>-0.019809</td>\n",
       "      <td>-0.036497</td>\n",
       "      <td>-0.021316</td>\n",
       "    </tr>\n",
       "    <tr>\n",
       "      <th>2016-08-30</th>\n",
       "      <td>-0.008169</td>\n",
       "      <td>-0.003451</td>\n",
       "      <td>0.000134</td>\n",
       "      <td>0.002454</td>\n",
       "      <td>0.009165</td>\n",
       "      <td>0.036807</td>\n",
       "      <td>0.014396</td>\n",
       "    </tr>\n",
       "    <tr>\n",
       "      <th>2016-08-31</th>\n",
       "      <td>-0.003290</td>\n",
       "      <td>0.000339</td>\n",
       "      <td>-0.007591</td>\n",
       "      <td>-0.003717</td>\n",
       "      <td>-0.010397</td>\n",
       "      <td>0.025444</td>\n",
       "      <td>-0.022824</td>\n",
       "    </tr>\n",
       "    <tr>\n",
       "      <th>...</th>\n",
       "      <td>...</td>\n",
       "      <td>...</td>\n",
       "      <td>...</td>\n",
       "      <td>...</td>\n",
       "      <td>...</td>\n",
       "      <td>...</td>\n",
       "      <td>...</td>\n",
       "    </tr>\n",
       "    <tr>\n",
       "      <th>2022-06-24</th>\n",
       "      <td>-0.000810</td>\n",
       "      <td>-0.002672</td>\n",
       "      <td>0.002274</td>\n",
       "      <td>-0.005679</td>\n",
       "      <td>0.006192</td>\n",
       "      <td>0.070877</td>\n",
       "      <td>0.002184</td>\n",
       "    </tr>\n",
       "    <tr>\n",
       "      <th>2022-06-27</th>\n",
       "      <td>-0.014636</td>\n",
       "      <td>0.005477</td>\n",
       "      <td>0.009685</td>\n",
       "      <td>0.009564</td>\n",
       "      <td>-0.024350</td>\n",
       "      <td>-0.028855</td>\n",
       "      <td>-0.001152</td>\n",
       "    </tr>\n",
       "    <tr>\n",
       "      <th>2022-06-28</th>\n",
       "      <td>-0.022634</td>\n",
       "      <td>-0.020941</td>\n",
       "      <td>-0.005422</td>\n",
       "      <td>-0.012261</td>\n",
       "      <td>-0.016042</td>\n",
       "      <td>-0.033690</td>\n",
       "      <td>-0.050323</td>\n",
       "    </tr>\n",
       "    <tr>\n",
       "      <th>2022-06-29</th>\n",
       "      <td>-0.022535</td>\n",
       "      <td>-0.017098</td>\n",
       "      <td>-0.009615</td>\n",
       "      <td>-0.004911</td>\n",
       "      <td>-0.024357</td>\n",
       "      <td>-0.054502</td>\n",
       "      <td>0.001090</td>\n",
       "    </tr>\n",
       "    <tr>\n",
       "      <th>2022-06-30</th>\n",
       "      <td>-0.021304</td>\n",
       "      <td>-0.009127</td>\n",
       "      <td>-0.010655</td>\n",
       "      <td>-0.009605</td>\n",
       "      <td>0.005042</td>\n",
       "      <td>-0.013743</td>\n",
       "      <td>0.018141</td>\n",
       "    </tr>\n",
       "  </tbody>\n",
       "</table>\n",
       "<p>1446 rows × 7 columns</p>\n",
       "</div>"
      ],
      "text/plain": [
       "            Size1_ILLIQ1  Size1_ILLIQ2  Size2_ILLIQ1  Size2_ILLIQ2   Bitcoin  \\\n",
       "2016-08-25     -0.002560     -0.006534      0.000523     -0.000906  0.000468   \n",
       "2016-08-26      0.005114      0.002618      0.001137     -0.005101  0.011342   \n",
       "2016-08-29      0.012452      0.008877      0.014567      0.007465 -0.019809   \n",
       "2016-08-30     -0.008169     -0.003451      0.000134      0.002454  0.009165   \n",
       "2016-08-31     -0.003290      0.000339     -0.007591     -0.003717 -0.010397   \n",
       "...                  ...           ...           ...           ...       ...   \n",
       "2022-06-24     -0.000810     -0.002672      0.002274     -0.005679  0.006192   \n",
       "2022-06-27     -0.014636      0.005477      0.009685      0.009564 -0.024350   \n",
       "2022-06-28     -0.022634     -0.020941     -0.005422     -0.012261 -0.016042   \n",
       "2022-06-29     -0.022535     -0.017098     -0.009615     -0.004911 -0.024357   \n",
       "2022-06-30     -0.021304     -0.009127     -0.010655     -0.009605  0.005042   \n",
       "\n",
       "            Ethereum  Litecoin  \n",
       "2016-08-25  0.040878 -0.004429  \n",
       "2016-08-26 -0.006160  0.008898  \n",
       "2016-08-29 -0.036497 -0.021316  \n",
       "2016-08-30  0.036807  0.014396  \n",
       "2016-08-31  0.025444 -0.022824  \n",
       "...              ...       ...  \n",
       "2022-06-24  0.070877  0.002184  \n",
       "2022-06-27 -0.028855 -0.001152  \n",
       "2022-06-28 -0.033690 -0.050323  \n",
       "2022-06-29 -0.054502  0.001090  \n",
       "2022-06-30 -0.013743  0.018141  \n",
       "\n",
       "[1446 rows x 7 columns]"
      ]
     },
     "execution_count": 16,
     "metadata": {},
     "output_type": "execute_result"
    }
   ],
   "source": [
    "df"
   ]
  },
  {
   "cell_type": "markdown",
   "id": "ac9d936e",
   "metadata": {},
   "source": [
    "# Grafico de Retornos"
   ]
  },
  {
   "cell_type": "code",
   "execution_count": 17,
   "id": "a8eb5c43",
   "metadata": {
    "scrolled": true
   },
   "outputs": [
    {
     "data": {
      "text/plain": [
       "<AxesSubplot:>"
      ]
     },
     "execution_count": 17,
     "metadata": {},
     "output_type": "execute_result"
    },
    {
     "data": {
      "image/png": "[encoded data removed]",
      "text/plain": [
       "<Figure size 1512x648 with 1 Axes>"
      ]
     },
     "metadata": {},
     "output_type": "display_data"
    }
   ],
   "source": [
    "sns.set()\n",
    "df.plot(figsize=(21,9))\n"
   ]
  },
  {
   "cell_type": "code",
   "execution_count": 18,
   "id": "cbdd7684",
   "metadata": {
    "scrolled": true
   },
   "outputs": [],
   "source": [
    "retorno = df"
   ]
  },
  {
   "cell_type": "code",
   "execution_count": 19,
   "id": "b45b5916",
   "metadata": {
    "scrolled": true
   },
   "outputs": [],
   "source": [
    "retorno_anual = retorno.mean() * 264"
   ]
  },
  {
   "cell_type": "code",
   "execution_count": 21,
   "id": "915d377e",
   "metadata": {
    "scrolled": true
   },
   "outputs": [
    {
     "data": {
      "text/html": [
       "<div>\n",
       "<style scoped>\n",
       "    .dataframe tbody tr th:only-of-type {\n",
       "        vertical-align: middle;\n",
       "    }\n",
       "\n",
       "    .dataframe tbody tr th {\n",
       "        vertical-align: top;\n",
       "    }\n",
       "\n",
       "    .dataframe thead th {\n",
       "        text-align: right;\n",
       "    }\n",
       "</style>\n",
       "<table border=\"1\" class=\"dataframe\">\n",
       "  <thead>\n",
       "    <tr style=\"text-align: right;\">\n",
       "      <th></th>\n",
       "      <th>Size1_ILLIQ1</th>\n",
       "      <th>Size1_ILLIQ2</th>\n",
       "      <th>Size2_ILLIQ1</th>\n",
       "      <th>Size2_ILLIQ2</th>\n",
       "      <th>Bitcoin</th>\n",
       "      <th>Ethereum</th>\n",
       "      <th>Litecoin</th>\n",
       "    </tr>\n",
       "  </thead>\n",
       "  <tbody>\n",
       "    <tr>\n",
       "      <th>2016-08-25</th>\n",
       "      <td>-0.002560</td>\n",
       "      <td>-0.006534</td>\n",
       "      <td>0.000523</td>\n",
       "      <td>-0.000906</td>\n",
       "      <td>0.000468</td>\n",
       "      <td>0.040878</td>\n",
       "      <td>-0.004429</td>\n",
       "    </tr>\n",
       "    <tr>\n",
       "      <th>2016-08-26</th>\n",
       "      <td>0.005114</td>\n",
       "      <td>0.002618</td>\n",
       "      <td>0.001137</td>\n",
       "      <td>-0.005101</td>\n",
       "      <td>0.011342</td>\n",
       "      <td>-0.006160</td>\n",
       "      <td>0.008898</td>\n",
       "    </tr>\n",
       "    <tr>\n",
       "      <th>2016-08-29</th>\n",
       "      <td>0.012452</td>\n",
       "      <td>0.008877</td>\n",
       "      <td>0.014567</td>\n",
       "      <td>0.007465</td>\n",
       "      <td>-0.019809</td>\n",
       "      <td>-0.036497</td>\n",
       "      <td>-0.021316</td>\n",
       "    </tr>\n",
       "    <tr>\n",
       "      <th>2016-08-30</th>\n",
       "      <td>-0.008169</td>\n",
       "      <td>-0.003451</td>\n",
       "      <td>0.000134</td>\n",
       "      <td>0.002454</td>\n",
       "      <td>0.009165</td>\n",
       "      <td>0.036807</td>\n",
       "      <td>0.014396</td>\n",
       "    </tr>\n",
       "    <tr>\n",
       "      <th>2016-08-31</th>\n",
       "      <td>-0.003290</td>\n",
       "      <td>0.000339</td>\n",
       "      <td>-0.007591</td>\n",
       "      <td>-0.003717</td>\n",
       "      <td>-0.010397</td>\n",
       "      <td>0.025444</td>\n",
       "      <td>-0.022824</td>\n",
       "    </tr>\n",
       "    <tr>\n",
       "      <th>...</th>\n",
       "      <td>...</td>\n",
       "      <td>...</td>\n",
       "      <td>...</td>\n",
       "      <td>...</td>\n",
       "      <td>...</td>\n",
       "      <td>...</td>\n",
       "      <td>...</td>\n",
       "    </tr>\n",
       "    <tr>\n",
       "      <th>2022-06-24</th>\n",
       "      <td>-0.000810</td>\n",
       "      <td>-0.002672</td>\n",
       "      <td>0.002274</td>\n",
       "      <td>-0.005679</td>\n",
       "      <td>0.006192</td>\n",
       "      <td>0.070877</td>\n",
       "      <td>0.002184</td>\n",
       "    </tr>\n",
       "    <tr>\n",
       "      <th>2022-06-27</th>\n",
       "      <td>-0.014636</td>\n",
       "      <td>0.005477</td>\n",
       "      <td>0.009685</td>\n",
       "      <td>0.009564</td>\n",
       "      <td>-0.024350</td>\n",
       "      <td>-0.028855</td>\n",
       "      <td>-0.001152</td>\n",
       "    </tr>\n",
       "    <tr>\n",
       "      <th>2022-06-28</th>\n",
       "      <td>-0.022634</td>\n",
       "      <td>-0.020941</td>\n",
       "      <td>-0.005422</td>\n",
       "      <td>-0.012261</td>\n",
       "      <td>-0.016042</td>\n",
       "      <td>-0.033690</td>\n",
       "      <td>-0.050323</td>\n",
       "    </tr>\n",
       "    <tr>\n",
       "      <th>2022-06-29</th>\n",
       "      <td>-0.022535</td>\n",
       "      <td>-0.017098</td>\n",
       "      <td>-0.009615</td>\n",
       "      <td>-0.004911</td>\n",
       "      <td>-0.024357</td>\n",
       "      <td>-0.054502</td>\n",
       "      <td>0.001090</td>\n",
       "    </tr>\n",
       "    <tr>\n",
       "      <th>2022-06-30</th>\n",
       "      <td>-0.021304</td>\n",
       "      <td>-0.009127</td>\n",
       "      <td>-0.010655</td>\n",
       "      <td>-0.009605</td>\n",
       "      <td>0.005042</td>\n",
       "      <td>-0.013743</td>\n",
       "      <td>0.018141</td>\n",
       "    </tr>\n",
       "  </tbody>\n",
       "</table>\n",
       "<p>1446 rows × 7 columns</p>\n",
       "</div>"
      ],
      "text/plain": [
       "            Size1_ILLIQ1  Size1_ILLIQ2  Size2_ILLIQ1  Size2_ILLIQ2   Bitcoin  \\\n",
       "2016-08-25     -0.002560     -0.006534      0.000523     -0.000906  0.000468   \n",
       "2016-08-26      0.005114      0.002618      0.001137     -0.005101  0.011342   \n",
       "2016-08-29      0.012452      0.008877      0.014567      0.007465 -0.019809   \n",
       "2016-08-30     -0.008169     -0.003451      0.000134      0.002454  0.009165   \n",
       "2016-08-31     -0.003290      0.000339     -0.007591     -0.003717 -0.010397   \n",
       "...                  ...           ...           ...           ...       ...   \n",
       "2022-06-24     -0.000810     -0.002672      0.002274     -0.005679  0.006192   \n",
       "2022-06-27     -0.014636      0.005477      0.009685      0.009564 -0.024350   \n",
       "2022-06-28     -0.022634     -0.020941     -0.005422     -0.012261 -0.016042   \n",
       "2022-06-29     -0.022535     -0.017098     -0.009615     -0.004911 -0.024357   \n",
       "2022-06-30     -0.021304     -0.009127     -0.010655     -0.009605  0.005042   \n",
       "\n",
       "            Ethereum  Litecoin  \n",
       "2016-08-25  0.040878 -0.004429  \n",
       "2016-08-26 -0.006160  0.008898  \n",
       "2016-08-29 -0.036497 -0.021316  \n",
       "2016-08-30  0.036807  0.014396  \n",
       "2016-08-31  0.025444 -0.022824  \n",
       "...              ...       ...  \n",
       "2022-06-24  0.070877  0.002184  \n",
       "2022-06-27 -0.028855 -0.001152  \n",
       "2022-06-28 -0.033690 -0.050323  \n",
       "2022-06-29 -0.054502  0.001090  \n",
       "2022-06-30 -0.013743  0.018141  \n",
       "\n",
       "[1446 rows x 7 columns]"
      ]
     },
     "execution_count": 21,
     "metadata": {},
     "output_type": "execute_result"
    }
   ],
   "source": [
    "retorno"
   ]
  },
  {
   "cell_type": "markdown",
   "id": "cec5ba78",
   "metadata": {},
   "source": [
    "# Retorno Anual"
   ]
  },
  {
   "cell_type": "code",
   "execution_count": 22,
   "id": "8eea4630",
   "metadata": {
    "scrolled": true
   },
   "outputs": [
    {
     "data": {
      "text/plain": [
       "Size1_ILLIQ1    0.226102\n",
       "Size1_ILLIQ2    0.173790\n",
       "Size2_ILLIQ1    0.132287\n",
       "Size2_ILLIQ2    0.254821\n",
       "Bitcoin         1.039780\n",
       "Ethereum        1.465618\n",
       "Litecoin        1.223179\n",
       "dtype: float64"
      ]
     },
     "execution_count": 22,
     "metadata": {},
     "output_type": "execute_result"
    }
   ],
   "source": [
    "retorno_anual"
   ]
  },
  {
   "cell_type": "markdown",
   "id": "435407d1",
   "metadata": {},
   "source": [
    "# Matriz de Covariância"
   ]
  },
  {
   "cell_type": "code",
   "execution_count": 23,
   "id": "d6fabc99",
   "metadata": {
    "scrolled": true
   },
   "outputs": [
    {
     "data": {
      "text/html": [
       "<div>\n",
       "<style scoped>\n",
       "    .dataframe tbody tr th:only-of-type {\n",
       "        vertical-align: middle;\n",
       "    }\n",
       "\n",
       "    .dataframe tbody tr th {\n",
       "        vertical-align: top;\n",
       "    }\n",
       "\n",
       "    .dataframe thead th {\n",
       "        text-align: right;\n",
       "    }\n",
       "</style>\n",
       "<table border=\"1\" class=\"dataframe\">\n",
       "  <thead>\n",
       "    <tr style=\"text-align: right;\">\n",
       "      <th></th>\n",
       "      <th>Size1_ILLIQ1</th>\n",
       "      <th>Size1_ILLIQ2</th>\n",
       "      <th>Size2_ILLIQ1</th>\n",
       "      <th>Size2_ILLIQ2</th>\n",
       "      <th>Bitcoin</th>\n",
       "      <th>Ethereum</th>\n",
       "      <th>Litecoin</th>\n",
       "    </tr>\n",
       "  </thead>\n",
       "  <tbody>\n",
       "    <tr>\n",
       "      <th>Size1_ILLIQ1</th>\n",
       "      <td>0.133905</td>\n",
       "      <td>0.095839</td>\n",
       "      <td>0.084405</td>\n",
       "      <td>0.086135</td>\n",
       "      <td>0.016397</td>\n",
       "      <td>0.030973</td>\n",
       "      <td>0.026797</td>\n",
       "    </tr>\n",
       "    <tr>\n",
       "      <th>Size1_ILLIQ2</th>\n",
       "      <td>0.095839</td>\n",
       "      <td>0.086670</td>\n",
       "      <td>0.069724</td>\n",
       "      <td>0.075459</td>\n",
       "      <td>0.015436</td>\n",
       "      <td>0.027524</td>\n",
       "      <td>0.023398</td>\n",
       "    </tr>\n",
       "    <tr>\n",
       "      <th>Size2_ILLIQ1</th>\n",
       "      <td>0.084405</td>\n",
       "      <td>0.069724</td>\n",
       "      <td>0.069126</td>\n",
       "      <td>0.067320</td>\n",
       "      <td>0.019255</td>\n",
       "      <td>0.032089</td>\n",
       "      <td>0.029655</td>\n",
       "    </tr>\n",
       "    <tr>\n",
       "      <th>Size2_ILLIQ2</th>\n",
       "      <td>0.086135</td>\n",
       "      <td>0.075459</td>\n",
       "      <td>0.067320</td>\n",
       "      <td>0.093038</td>\n",
       "      <td>0.027497</td>\n",
       "      <td>0.035891</td>\n",
       "      <td>0.027508</td>\n",
       "    </tr>\n",
       "    <tr>\n",
       "      <th>Bitcoin</th>\n",
       "      <td>0.016397</td>\n",
       "      <td>0.015436</td>\n",
       "      <td>0.019255</td>\n",
       "      <td>0.027497</td>\n",
       "      <td>0.618383</td>\n",
       "      <td>0.565568</td>\n",
       "      <td>0.590692</td>\n",
       "    </tr>\n",
       "    <tr>\n",
       "      <th>Ethereum</th>\n",
       "      <td>0.030973</td>\n",
       "      <td>0.027524</td>\n",
       "      <td>0.032089</td>\n",
       "      <td>0.035891</td>\n",
       "      <td>0.565568</td>\n",
       "      <td>1.168707</td>\n",
       "      <td>0.806192</td>\n",
       "    </tr>\n",
       "    <tr>\n",
       "      <th>Litecoin</th>\n",
       "      <td>0.026797</td>\n",
       "      <td>0.023398</td>\n",
       "      <td>0.029655</td>\n",
       "      <td>0.027508</td>\n",
       "      <td>0.590692</td>\n",
       "      <td>0.806192</td>\n",
       "      <td>1.458628</td>\n",
       "    </tr>\n",
       "  </tbody>\n",
       "</table>\n",
       "</div>"
      ],
      "text/plain": [
       "              Size1_ILLIQ1  Size1_ILLIQ2  Size2_ILLIQ1  Size2_ILLIQ2  \\\n",
       "Size1_ILLIQ1      0.133905      0.095839      0.084405      0.086135   \n",
       "Size1_ILLIQ2      0.095839      0.086670      0.069724      0.075459   \n",
       "Size2_ILLIQ1      0.084405      0.069724      0.069126      0.067320   \n",
       "Size2_ILLIQ2      0.086135      0.075459      0.067320      0.093038   \n",
       "Bitcoin           0.016397      0.015436      0.019255      0.027497   \n",
       "Ethereum          0.030973      0.027524      0.032089      0.035891   \n",
       "Litecoin          0.026797      0.023398      0.029655      0.027508   \n",
       "\n",
       "               Bitcoin  Ethereum  Litecoin  \n",
       "Size1_ILLIQ1  0.016397  0.030973  0.026797  \n",
       "Size1_ILLIQ2  0.015436  0.027524  0.023398  \n",
       "Size2_ILLIQ1  0.019255  0.032089  0.029655  \n",
       "Size2_ILLIQ2  0.027497  0.035891  0.027508  \n",
       "Bitcoin       0.618383  0.565568  0.590692  \n",
       "Ethereum      0.565568  1.168707  0.806192  \n",
       "Litecoin      0.590692  0.806192  1.458628  "
      ]
     },
     "execution_count": 23,
     "metadata": {},
     "output_type": "execute_result"
    }
   ],
   "source": [
    "cov = retorno.cov() * 264\n",
    "cov"
   ]
  },
  {
   "cell_type": "markdown",
   "id": "b2bcca26",
   "metadata": {},
   "source": [
    "# Matriz de Correlação"
   ]
  },
  {
   "cell_type": "code",
   "execution_count": 24,
   "id": "ed96e8a1",
   "metadata": {
    "scrolled": true
   },
   "outputs": [
    {
     "data": {
      "text/html": [
       "<div>\n",
       "<style scoped>\n",
       "    .dataframe tbody tr th:only-of-type {\n",
       "        vertical-align: middle;\n",
       "    }\n",
       "\n",
       "    .dataframe tbody tr th {\n",
       "        vertical-align: top;\n",
       "    }\n",
       "\n",
       "    .dataframe thead th {\n",
       "        text-align: right;\n",
       "    }\n",
       "</style>\n",
       "<table border=\"1\" class=\"dataframe\">\n",
       "  <thead>\n",
       "    <tr style=\"text-align: right;\">\n",
       "      <th></th>\n",
       "      <th>Size1_ILLIQ1</th>\n",
       "      <th>Size1_ILLIQ2</th>\n",
       "      <th>Size2_ILLIQ1</th>\n",
       "      <th>Size2_ILLIQ2</th>\n",
       "      <th>Bitcoin</th>\n",
       "      <th>Ethereum</th>\n",
       "      <th>Litecoin</th>\n",
       "    </tr>\n",
       "  </thead>\n",
       "  <tbody>\n",
       "    <tr>\n",
       "      <th>Size1_ILLIQ1</th>\n",
       "      <td>1.000000</td>\n",
       "      <td>0.889632</td>\n",
       "      <td>0.877307</td>\n",
       "      <td>0.771702</td>\n",
       "      <td>0.056981</td>\n",
       "      <td>0.078294</td>\n",
       "      <td>0.060634</td>\n",
       "    </tr>\n",
       "    <tr>\n",
       "      <th>Size1_ILLIQ2</th>\n",
       "      <td>0.889632</td>\n",
       "      <td>1.000000</td>\n",
       "      <td>0.900793</td>\n",
       "      <td>0.840324</td>\n",
       "      <td>0.066677</td>\n",
       "      <td>0.086480</td>\n",
       "      <td>0.065806</td>\n",
       "    </tr>\n",
       "    <tr>\n",
       "      <th>Size2_ILLIQ1</th>\n",
       "      <td>0.877307</td>\n",
       "      <td>0.900793</td>\n",
       "      <td>1.000000</td>\n",
       "      <td>0.839446</td>\n",
       "      <td>0.093130</td>\n",
       "      <td>0.112898</td>\n",
       "      <td>0.093392</td>\n",
       "    </tr>\n",
       "    <tr>\n",
       "      <th>Size2_ILLIQ2</th>\n",
       "      <td>0.771702</td>\n",
       "      <td>0.840324</td>\n",
       "      <td>0.839446</td>\n",
       "      <td>1.000000</td>\n",
       "      <td>0.114638</td>\n",
       "      <td>0.108844</td>\n",
       "      <td>0.074671</td>\n",
       "    </tr>\n",
       "    <tr>\n",
       "      <th>Bitcoin</th>\n",
       "      <td>0.056981</td>\n",
       "      <td>0.066677</td>\n",
       "      <td>0.093130</td>\n",
       "      <td>0.114638</td>\n",
       "      <td>1.000000</td>\n",
       "      <td>0.665278</td>\n",
       "      <td>0.621956</td>\n",
       "    </tr>\n",
       "    <tr>\n",
       "      <th>Ethereum</th>\n",
       "      <td>0.078294</td>\n",
       "      <td>0.086480</td>\n",
       "      <td>0.112898</td>\n",
       "      <td>0.108844</td>\n",
       "      <td>0.665278</td>\n",
       "      <td>1.000000</td>\n",
       "      <td>0.617466</td>\n",
       "    </tr>\n",
       "    <tr>\n",
       "      <th>Litecoin</th>\n",
       "      <td>0.060634</td>\n",
       "      <td>0.065806</td>\n",
       "      <td>0.093392</td>\n",
       "      <td>0.074671</td>\n",
       "      <td>0.621956</td>\n",
       "      <td>0.617466</td>\n",
       "      <td>1.000000</td>\n",
       "    </tr>\n",
       "  </tbody>\n",
       "</table>\n",
       "</div>"
      ],
      "text/plain": [
       "              Size1_ILLIQ1  Size1_ILLIQ2  Size2_ILLIQ1  Size2_ILLIQ2  \\\n",
       "Size1_ILLIQ1      1.000000      0.889632      0.877307      0.771702   \n",
       "Size1_ILLIQ2      0.889632      1.000000      0.900793      0.840324   \n",
       "Size2_ILLIQ1      0.877307      0.900793      1.000000      0.839446   \n",
       "Size2_ILLIQ2      0.771702      0.840324      0.839446      1.000000   \n",
       "Bitcoin           0.056981      0.066677      0.093130      0.114638   \n",
       "Ethereum          0.078294      0.086480      0.112898      0.108844   \n",
       "Litecoin          0.060634      0.065806      0.093392      0.074671   \n",
       "\n",
       "               Bitcoin  Ethereum  Litecoin  \n",
       "Size1_ILLIQ1  0.056981  0.078294  0.060634  \n",
       "Size1_ILLIQ2  0.066677  0.086480  0.065806  \n",
       "Size2_ILLIQ1  0.093130  0.112898  0.093392  \n",
       "Size2_ILLIQ2  0.114638  0.108844  0.074671  \n",
       "Bitcoin       1.000000  0.665278  0.621956  \n",
       "Ethereum      0.665278  1.000000  0.617466  \n",
       "Litecoin      0.621956  0.617466  1.000000  "
      ]
     },
     "execution_count": 24,
     "metadata": {},
     "output_type": "execute_result"
    }
   ],
   "source": [
    "corr = retorno.corr()\n",
    "corr"
   ]
  },
  {
   "cell_type": "code",
   "execution_count": 25,
   "id": "1aa183c7",
   "metadata": {
    "scrolled": true
   },
   "outputs": [],
   "source": [
    "num_acoes = len(list(df))\n",
    "num_carteiras = 1000\n",
    "peso = np.random.random(num_acoes)\n",
    "peso /= np.sum(peso)"
   ]
  },
  {
   "cell_type": "code",
   "execution_count": 26,
   "id": "2eddb9ee",
   "metadata": {
    "scrolled": true
   },
   "outputs": [],
   "source": [
    "retorno_esperado = np.dot(peso,retorno_anual)"
   ]
  },
  {
   "cell_type": "code",
   "execution_count": 27,
   "id": "97904a1e",
   "metadata": {
    "scrolled": true
   },
   "outputs": [
    {
     "data": {
      "text/plain": [
       "array([0.12920214, 0.10816526, 0.17720062, 0.10803474, 0.18000365,\n",
       "       0.15820079, 0.13919281])"
      ]
     },
     "execution_count": 27,
     "metadata": {},
     "output_type": "execute_result"
    }
   ],
   "source": [
    "peso"
   ]
  },
  {
   "cell_type": "code",
   "execution_count": 28,
   "id": "0b6ffc09",
   "metadata": {
    "scrolled": true
   },
   "outputs": [
    {
     "data": {
      "text/plain": [
       "0.688265695031384"
      ]
     },
     "execution_count": 28,
     "metadata": {},
     "output_type": "execute_result"
    }
   ],
   "source": [
    "retorno_esperado"
   ]
  },
  {
   "cell_type": "code",
   "execution_count": 29,
   "id": "008f2e35",
   "metadata": {
    "scrolled": true
   },
   "outputs": [
    {
     "data": {
      "text/html": [
       "<div>\n",
       "<style scoped>\n",
       "    .dataframe tbody tr th:only-of-type {\n",
       "        vertical-align: middle;\n",
       "    }\n",
       "\n",
       "    .dataframe tbody tr th {\n",
       "        vertical-align: top;\n",
       "    }\n",
       "\n",
       "    .dataframe thead th {\n",
       "        text-align: right;\n",
       "    }\n",
       "</style>\n",
       "<table border=\"1\" class=\"dataframe\">\n",
       "  <thead>\n",
       "    <tr style=\"text-align: right;\">\n",
       "      <th></th>\n",
       "      <th>Size1_ILLIQ1</th>\n",
       "      <th>Size1_ILLIQ2</th>\n",
       "      <th>Size2_ILLIQ1</th>\n",
       "      <th>Size2_ILLIQ2</th>\n",
       "      <th>Bitcoin</th>\n",
       "      <th>Ethereum</th>\n",
       "      <th>Litecoin</th>\n",
       "    </tr>\n",
       "  </thead>\n",
       "  <tbody>\n",
       "    <tr>\n",
       "      <th>2021-01-04</th>\n",
       "      <td>-0.021749</td>\n",
       "      <td>-0.006435</td>\n",
       "      <td>-0.005028</td>\n",
       "      <td>-0.013776</td>\n",
       "      <td>0.112279</td>\n",
       "      <td>0.457965</td>\n",
       "      <td>0.255689</td>\n",
       "    </tr>\n",
       "    <tr>\n",
       "      <th>2021-01-05</th>\n",
       "      <td>0.000118</td>\n",
       "      <td>-0.007165</td>\n",
       "      <td>-0.001001</td>\n",
       "      <td>-0.009487</td>\n",
       "      <td>0.059200</td>\n",
       "      <td>0.052526</td>\n",
       "      <td>0.016545</td>\n",
       "    </tr>\n",
       "    <tr>\n",
       "      <th>2021-01-06</th>\n",
       "      <td>-0.017431</td>\n",
       "      <td>-0.017725</td>\n",
       "      <td>-0.013795</td>\n",
       "      <td>-0.006160</td>\n",
       "      <td>0.088260</td>\n",
       "      <td>0.104375</td>\n",
       "      <td>0.070958</td>\n",
       "    </tr>\n",
       "    <tr>\n",
       "      <th>2021-01-07</th>\n",
       "      <td>-0.004793</td>\n",
       "      <td>-0.007405</td>\n",
       "      <td>0.011685</td>\n",
       "      <td>0.043090</td>\n",
       "      <td>0.091902</td>\n",
       "      <td>0.032080</td>\n",
       "      <td>0.022731</td>\n",
       "    </tr>\n",
       "    <tr>\n",
       "      <th>2021-01-08</th>\n",
       "      <td>0.025868</td>\n",
       "      <td>0.032018</td>\n",
       "      <td>0.034293</td>\n",
       "      <td>0.064044</td>\n",
       "      <td>0.030331</td>\n",
       "      <td>-0.005627</td>\n",
       "      <td>0.017006</td>\n",
       "    </tr>\n",
       "    <tr>\n",
       "      <th>...</th>\n",
       "      <td>...</td>\n",
       "      <td>...</td>\n",
       "      <td>...</td>\n",
       "      <td>...</td>\n",
       "      <td>...</td>\n",
       "      <td>...</td>\n",
       "      <td>...</td>\n",
       "    </tr>\n",
       "    <tr>\n",
       "      <th>2021-12-23</th>\n",
       "      <td>-0.009015</td>\n",
       "      <td>-0.002080</td>\n",
       "      <td>-0.003977</td>\n",
       "      <td>-0.000038</td>\n",
       "      <td>0.049158</td>\n",
       "      <td>0.036636</td>\n",
       "      <td>0.056013</td>\n",
       "    </tr>\n",
       "    <tr>\n",
       "      <th>2021-12-27</th>\n",
       "      <td>0.011151</td>\n",
       "      <td>0.015748</td>\n",
       "      <td>0.008268</td>\n",
       "      <td>0.004900</td>\n",
       "      <td>-0.010934</td>\n",
       "      <td>-0.010581</td>\n",
       "      <td>-0.040226</td>\n",
       "    </tr>\n",
       "    <tr>\n",
       "      <th>2021-12-28</th>\n",
       "      <td>0.022299</td>\n",
       "      <td>0.012148</td>\n",
       "      <td>-0.002531</td>\n",
       "      <td>0.001334</td>\n",
       "      <td>-0.061254</td>\n",
       "      <td>-0.060021</td>\n",
       "      <td>-0.064862</td>\n",
       "    </tr>\n",
       "    <tr>\n",
       "      <th>2021-12-29</th>\n",
       "      <td>-0.022277</td>\n",
       "      <td>-0.008498</td>\n",
       "      <td>-0.009640</td>\n",
       "      <td>-0.007139</td>\n",
       "      <td>-0.009784</td>\n",
       "      <td>-0.030456</td>\n",
       "      <td>0.011221</td>\n",
       "    </tr>\n",
       "    <tr>\n",
       "      <th>2021-12-30</th>\n",
       "      <td>0.025507</td>\n",
       "      <td>0.016972</td>\n",
       "      <td>0.012878</td>\n",
       "      <td>0.007829</td>\n",
       "      <td>-0.009270</td>\n",
       "      <td>-0.001198</td>\n",
       "      <td>-0.005041</td>\n",
       "    </tr>\n",
       "  </tbody>\n",
       "</table>\n",
       "<p>247 rows × 7 columns</p>\n",
       "</div>"
      ],
      "text/plain": [
       "            Size1_ILLIQ1  Size1_ILLIQ2  Size2_ILLIQ1  Size2_ILLIQ2   Bitcoin  \\\n",
       "2021-01-04     -0.021749     -0.006435     -0.005028     -0.013776  0.112279   \n",
       "2021-01-05      0.000118     -0.007165     -0.001001     -0.009487  0.059200   \n",
       "2021-01-06     -0.017431     -0.017725     -0.013795     -0.006160  0.088260   \n",
       "2021-01-07     -0.004793     -0.007405      0.011685      0.043090  0.091902   \n",
       "2021-01-08      0.025868      0.032018      0.034293      0.064044  0.030331   \n",
       "...                  ...           ...           ...           ...       ...   \n",
       "2021-12-23     -0.009015     -0.002080     -0.003977     -0.000038  0.049158   \n",
       "2021-12-27      0.011151      0.015748      0.008268      0.004900 -0.010934   \n",
       "2021-12-28      0.022299      0.012148     -0.002531      0.001334 -0.061254   \n",
       "2021-12-29     -0.022277     -0.008498     -0.009640     -0.007139 -0.009784   \n",
       "2021-12-30      0.025507      0.016972      0.012878      0.007829 -0.009270   \n",
       "\n",
       "            Ethereum  Litecoin  \n",
       "2021-01-04  0.457965  0.255689  \n",
       "2021-01-05  0.052526  0.016545  \n",
       "2021-01-06  0.104375  0.070958  \n",
       "2021-01-07  0.032080  0.022731  \n",
       "2021-01-08 -0.005627  0.017006  \n",
       "...              ...       ...  \n",
       "2021-12-23  0.036636  0.056013  \n",
       "2021-12-27 -0.010581 -0.040226  \n",
       "2021-12-28 -0.060021 -0.064862  \n",
       "2021-12-29 -0.030456  0.011221  \n",
       "2021-12-30 -0.001198 -0.005041  \n",
       "\n",
       "[247 rows x 7 columns]"
      ]
     },
     "execution_count": 29,
     "metadata": {},
     "output_type": "execute_result"
    }
   ],
   "source": [
    "df[(df.index >= '2021-01-01') & (df.index <= '2021-12-31')]"
   ]
  },
  {
   "cell_type": "code",
   "execution_count": 30,
   "id": "b182a5f9",
   "metadata": {
    "scrolled": true
   },
   "outputs": [],
   "source": [
    "\n",
    "lista_stats = list()\n",
    "for i in list(df):\n",
    "    d = df[i].describe()\n",
    "    d = d.to_dict()\n",
    "    d.update({'curtose':df[i].skew(),\n",
    "              'assimetria':df[i].kurtosis()})\n",
    "    \n",
    "    #s = pd.DataFrame(d,index=[i]).T\n",
    "    lista_stats.append(d)\n",
    "    \n",
    "    \n",
    "\n",
    "rename = {idx:i for idx,i in enumerate(list(df))}\n",
    "\n",
    "stats = pd.DataFrame(lista_stats).T   \n",
    "stats.rename(columns=rename, inplace = True)"
   ]
  },
  {
   "cell_type": "markdown",
   "id": "cb556727",
   "metadata": {},
   "source": [
    "# Describle dados das carteiras"
   ]
  },
  {
   "cell_type": "code",
   "execution_count": 31,
   "id": "f94d1179",
   "metadata": {
    "scrolled": true
   },
   "outputs": [
    {
     "data": {
      "text/html": [
       "<div>\n",
       "<style scoped>\n",
       "    .dataframe tbody tr th:only-of-type {\n",
       "        vertical-align: middle;\n",
       "    }\n",
       "\n",
       "    .dataframe tbody tr th {\n",
       "        vertical-align: top;\n",
       "    }\n",
       "\n",
       "    .dataframe thead th {\n",
       "        text-align: right;\n",
       "    }\n",
       "</style>\n",
       "<table border=\"1\" class=\"dataframe\">\n",
       "  <thead>\n",
       "    <tr style=\"text-align: right;\">\n",
       "      <th></th>\n",
       "      <th>Size1_ILLIQ1</th>\n",
       "      <th>Size1_ILLIQ2</th>\n",
       "      <th>Size2_ILLIQ1</th>\n",
       "      <th>Size2_ILLIQ2</th>\n",
       "      <th>Bitcoin</th>\n",
       "      <th>Ethereum</th>\n",
       "      <th>Litecoin</th>\n",
       "    </tr>\n",
       "  </thead>\n",
       "  <tbody>\n",
       "    <tr>\n",
       "      <th>count</th>\n",
       "      <td>1446.000000</td>\n",
       "      <td>1446.000000</td>\n",
       "      <td>1446.000000</td>\n",
       "      <td>1446.000000</td>\n",
       "      <td>1446.000000</td>\n",
       "      <td>1446.000000</td>\n",
       "      <td>1446.000000</td>\n",
       "    </tr>\n",
       "    <tr>\n",
       "      <th>mean</th>\n",
       "      <td>0.000856</td>\n",
       "      <td>0.000658</td>\n",
       "      <td>0.000501</td>\n",
       "      <td>0.000965</td>\n",
       "      <td>0.003939</td>\n",
       "      <td>0.005552</td>\n",
       "      <td>0.004633</td>\n",
       "    </tr>\n",
       "    <tr>\n",
       "      <th>std</th>\n",
       "      <td>0.022521</td>\n",
       "      <td>0.018119</td>\n",
       "      <td>0.016181</td>\n",
       "      <td>0.018773</td>\n",
       "      <td>0.048398</td>\n",
       "      <td>0.066535</td>\n",
       "      <td>0.074331</td>\n",
       "    </tr>\n",
       "    <tr>\n",
       "      <th>min</th>\n",
       "      <td>-0.207237</td>\n",
       "      <td>-0.169687</td>\n",
       "      <td>-0.150378</td>\n",
       "      <td>-0.200426</td>\n",
       "      <td>-0.394797</td>\n",
       "      <td>-0.448190</td>\n",
       "      <td>-0.388409</td>\n",
       "    </tr>\n",
       "    <tr>\n",
       "      <th>25%</th>\n",
       "      <td>-0.008998</td>\n",
       "      <td>-0.007020</td>\n",
       "      <td>-0.006950</td>\n",
       "      <td>-0.007574</td>\n",
       "      <td>-0.018620</td>\n",
       "      <td>-0.027139</td>\n",
       "      <td>-0.029255</td>\n",
       "    </tr>\n",
       "    <tr>\n",
       "      <th>50%</th>\n",
       "      <td>0.001141</td>\n",
       "      <td>0.001734</td>\n",
       "      <td>0.001184</td>\n",
       "      <td>0.001241</td>\n",
       "      <td>0.002898</td>\n",
       "      <td>0.001096</td>\n",
       "      <td>0.000765</td>\n",
       "    </tr>\n",
       "    <tr>\n",
       "      <th>75%</th>\n",
       "      <td>0.011333</td>\n",
       "      <td>0.009517</td>\n",
       "      <td>0.008994</td>\n",
       "      <td>0.010171</td>\n",
       "      <td>0.025819</td>\n",
       "      <td>0.036256</td>\n",
       "      <td>0.030844</td>\n",
       "    </tr>\n",
       "    <tr>\n",
       "      <th>max</th>\n",
       "      <td>0.125304</td>\n",
       "      <td>0.112559</td>\n",
       "      <td>0.129528</td>\n",
       "      <td>0.163470</td>\n",
       "      <td>0.246343</td>\n",
       "      <td>0.487029</td>\n",
       "      <td>0.852292</td>\n",
       "    </tr>\n",
       "    <tr>\n",
       "      <th>curtose</th>\n",
       "      <td>-1.029970</td>\n",
       "      <td>-1.563342</td>\n",
       "      <td>-1.104761</td>\n",
       "      <td>-1.501068</td>\n",
       "      <td>-0.111242</td>\n",
       "      <td>0.619268</td>\n",
       "      <td>2.396700</td>\n",
       "    </tr>\n",
       "    <tr>\n",
       "      <th>assimetria</th>\n",
       "      <td>14.484155</td>\n",
       "      <td>16.162681</td>\n",
       "      <td>16.236123</td>\n",
       "      <td>23.603563</td>\n",
       "      <td>5.780440</td>\n",
       "      <td>7.094624</td>\n",
       "      <td>23.003863</td>\n",
       "    </tr>\n",
       "  </tbody>\n",
       "</table>\n",
       "</div>"
      ],
      "text/plain": [
       "            Size1_ILLIQ1  Size1_ILLIQ2  Size2_ILLIQ1  Size2_ILLIQ2  \\\n",
       "count        1446.000000   1446.000000   1446.000000   1446.000000   \n",
       "mean            0.000856      0.000658      0.000501      0.000965   \n",
       "std             0.022521      0.018119      0.016181      0.018773   \n",
       "min            -0.207237     -0.169687     -0.150378     -0.200426   \n",
       "25%            -0.008998     -0.007020     -0.006950     -0.007574   \n",
       "50%             0.001141      0.001734      0.001184      0.001241   \n",
       "75%             0.011333      0.009517      0.008994      0.010171   \n",
       "max             0.125304      0.112559      0.129528      0.163470   \n",
       "curtose        -1.029970     -1.563342     -1.104761     -1.501068   \n",
       "assimetria     14.484155     16.162681     16.236123     23.603563   \n",
       "\n",
       "                Bitcoin     Ethereum     Litecoin  \n",
       "count       1446.000000  1446.000000  1446.000000  \n",
       "mean           0.003939     0.005552     0.004633  \n",
       "std            0.048398     0.066535     0.074331  \n",
       "min           -0.394797    -0.448190    -0.388409  \n",
       "25%           -0.018620    -0.027139    -0.029255  \n",
       "50%            0.002898     0.001096     0.000765  \n",
       "75%            0.025819     0.036256     0.030844  \n",
       "max            0.246343     0.487029     0.852292  \n",
       "curtose       -0.111242     0.619268     2.396700  \n",
       "assimetria     5.780440     7.094624    23.003863  "
      ]
     },
     "execution_count": 31,
     "metadata": {},
     "output_type": "execute_result"
    }
   ],
   "source": [
    "stats"
   ]
  },
  {
   "cell_type": "markdown",
   "id": "99a8d814",
   "metadata": {},
   "source": [
    "# Matriz de Correlação"
   ]
  },
  {
   "cell_type": "code",
   "execution_count": 32,
   "id": "32909591",
   "metadata": {
    "scrolled": true
   },
   "outputs": [
    {
     "data": {
      "image/png": "[encoded data removed]",
      "text/plain": [
       "<Figure size 878.4x324 with 2 Axes>"
      ]
     },
     "metadata": {},
     "output_type": "display_data"
    }
   ],
   "source": [
    "correlation_mat = df.corr()\n",
    "plt.figure(figsize=(12.2,4.5))\n",
    "sns.heatmap(correlation_mat, annot = True)\n",
    "plt.title('Matriz de Correlação')\n",
    "plt.xlabel('Ativos',fontsize=18)\n",
    "plt.ylabel('Ativos',fontsize=18)\n",
    "plt.show()"
   ]
  },
  {
   "cell_type": "code",
   "execution_count": 58,
   "id": "ef20e143",
   "metadata": {
    "scrolled": true
   },
   "outputs": [
    {
     "data": {
      "text/plain": [
       "<Figure size 432x288 with 0 Axes>"
      ]
     },
     "metadata": {},
     "output_type": "display_data"
    }
   ],
   "source": [
    "\n",
    "\n",
    "img_buf = io.BytesIO()\n",
    "plt.savefig(img_buf, format='png')\n",
    "\n",
    "im = Image.open(img_buf)\n",
    "im.show(title=\"Matriz de Correlação\")\n"
   ]
  },
  {
   "cell_type": "code",
   "execution_count": null,
   "id": "2600263f",
   "metadata": {
    "scrolled": true
   },
   "outputs": [],
   "source": []
  },
  {
   "cell_type": "code",
   "execution_count": 33,
   "id": "937c74d0",
   "metadata": {
    "scrolled": true
   },
   "outputs": [],
   "source": [
    "#Ultimo dia de cada mês para criação dos periodos\n",
    "\n",
    "def UltimoDiaMes(data):\n",
    "    \n",
    "    #data = datetime.datetime.strptime(data, '%Y-%m-%d')\n",
    "    \n",
    "    date = datetime.datetime(data.year,data.month, data.day)\n",
    "    nxt_mnth = date.replace(day=28) + datetime.timedelta(days=4)        \n",
    "    res = nxt_mnth - datetime.timedelta(days=nxt_mnth.day)\n",
    "    \n",
    "    return res"
   ]
  },
  {
   "cell_type": "code",
   "execution_count": 34,
   "id": "41c4e80c",
   "metadata": {
    "scrolled": true
   },
   "outputs": [],
   "source": [
    "def RangeDate(inicio, fim):\n",
    "    data_inicio = datetime.datetime.strptime(inicio, '%Y-%m-%d')\n",
    "    data_fim = datetime.datetime.strptime(fim, '%Y-%m-%d')\n",
    "\n",
    "    delta = data_fim - data_inicio\n",
    "\n",
    "    lista_datas = []\n",
    "    for i in range(delta.days + 1):\n",
    "        day = data_inicio + timedelta(days=i)\n",
    "        lista_datas.append(day)\n",
    "        \n",
    "    d_l = pd.DataFrame(lista_datas,columns=['data'])\n",
    "    lista = list(d_l.data[d_l['data'].dt.day == 1])\n",
    "    \n",
    "    return lista"
   ]
  },
  {
   "cell_type": "code",
   "execution_count": 35,
   "id": "ae9333cb",
   "metadata": {
    "scrolled": true
   },
   "outputs": [],
   "source": [
    "#Carteira ingênua\n",
    "\n",
    "def pesosPortafolioIngenuo(dataframe):\n",
    "    array = []\n",
    "    for i in dataframe.columns:\n",
    "        array.append(1/len(dataframe.columns))\n",
    "    arrayFinal = np.array(array)\n",
    "    return arrayFinal\n"
   ]
  },
  {
   "cell_type": "code",
   "execution_count": 36,
   "id": "25c9e693",
   "metadata": {
    "scrolled": true
   },
   "outputs": [],
   "source": [
    "\n",
    "def CriaListaPeriodoTestes(inicio,fim):\n",
    "\n",
    "    a = RangeDate(inicio,fim)\n",
    "    lista_datas = list()\n",
    "    for i in a:\n",
    "        d = {\n",
    "            'inicio':i,\n",
    "            'fim':UltimoDiaMes(i)\n",
    "        }\n",
    "        lista_datas.append(d)\n",
    "    return lista_datas"
   ]
  },
  {
   "cell_type": "code",
   "execution_count": 37,
   "id": "6548dba8",
   "metadata": {
    "scrolled": true
   },
   "outputs": [],
   "source": [
    "#Carteira de Minima Variância\n",
    "def MinVarPesos(retornos, df_cov,restricao):\n",
    "    ef = pt.EfficientFrontier(retornos, df_cov, weight_bounds=(restricao,1))\n",
    "    weights = ef.min_volatility() \n",
    "    cleaned_weights = ef.clean_weights() \n",
    "    #print(cleaned_weights)\n",
    "    #print('-----------MinVar--------')\n",
    "    relat = ef.portfolio_performance()\n",
    "    return relat, cleaned_weights"
   ]
  },
  {
   "cell_type": "code",
   "execution_count": 38,
   "id": "6e35d33d",
   "metadata": {
    "scrolled": true
   },
   "outputs": [],
   "source": [
    "#Carteira Maior Indice Sharpe\n",
    "def MaxSharpRatio(retornos, df_cov, restricao):\n",
    "    ef = pt.EfficientFrontier(retornos, df_cov,weight_bounds=(restricao,1))\n",
    "    weights = ef.max_sharpe() \n",
    "    cleaned_weights = ef.clean_weights() \n",
    "    #print(cleaned_weights) \n",
    "    #print('------------Tang---------')\n",
    "    relat = ef.portfolio_performance(verbose=False)\n",
    "    return relat, cleaned_weights"
   ]
  },
  {
   "cell_type": "code",
   "execution_count": 39,
   "id": "4a6f7c1c",
   "metadata": {
    "scrolled": true
   },
   "outputs": [],
   "source": [
    "#Funções Basicas\n",
    "\n",
    "def Volatilidade(pesos,cov):\n",
    "    volatilidade = np.sqrt(np.dot(pesos.T, np.dot(cov,pesos)))\n",
    "    return volatilidade\n",
    "\n",
    "def RetornoEsperado(pesos,retorno_anual):\n",
    "    retorno_esperado = np.dot(pesos,retorno_anual)\n",
    "    return retorno_esperado\n",
    "\n",
    "def ConvertDictArray(dicionario):\n",
    "    nova_lista = [dicionario[i] for i in dicionario]\n",
    "    lista = np.asarray(nova_lista)\n",
    "    return lista\n"
   ]
  },
  {
   "cell_type": "code",
   "execution_count": 40,
   "id": "953a1819",
   "metadata": {
    "scrolled": true
   },
   "outputs": [],
   "source": [
    "#Função para formação de carteiras\n",
    "\n",
    "def Carteiras(df,data_inicio, data_fim):\n",
    "    if len(data_inicio)>0:\n",
    "        df = df[(df.index >= data_inicio) & (df.index <= data_fim)]\n",
    "    \n",
    "    retorno = df\n",
    "    retorno_anual = retorno.mean() * 264\n",
    "    cov = retorno.cov() * 264\n",
    "    corr = retorno.corr()\n",
    "    \n",
    "    pesos = pesosPortafolioIngenuo(df)\n",
    "    retorno_esperado = RetornoEsperado(pesos,retorno_anual) #np.dot(pesos,retorno_anual)\n",
    "    \n",
    "    volatilidade = Volatilidade(pesos,cov) #np.sqrt(np.dot(pesos.T, np.dot(cov,pesos)))\n",
    "    \n",
    "    cart_min_var = MinVarPesos(retorno_anual,cov,0)\n",
    "    cart_tang_var = MaxSharpRatio(retorno_anual,cov,0)\n",
    "    \n",
    "    cart_min_var_sr = MinVarPesos(retorno_anual,cov,-1)\n",
    "    cart_tang_var_sr = MaxSharpRatio(retorno_anual,cov,-1)\n",
    "    \n",
    "    \n",
    "    retorno_pesos = {\n",
    "        'w>0':{\n",
    "        'min_var':dict(cart_min_var[1]),\n",
    "        'tang':dict(cart_tang_var[1])\n",
    "        },\n",
    "        'ingenua': {'ingenua':{i: pesos[idx-1] for idx,i in enumerate(list(df))}\n",
    "                   },\n",
    "        'sem_restricao':{\n",
    "        'min_var':dict(cart_min_var_sr[1]),\n",
    "        'tang':dict(cart_tang_var_sr[1])\n",
    "        }\n",
    "        \n",
    "    }\n",
    "    \n",
    "    d = {}\n",
    "    for i in retorno_pesos:\n",
    "        new = {\n",
    "            i:{}\n",
    "        }\n",
    "        d.update(new)\n",
    "        \n",
    "        for m in retorno_pesos[i]:\n",
    "            level1 = retorno_pesos[i][m]\n",
    "            \n",
    "            ListaPesos = ConvertDictArray(level1)\n",
    "            vol = Volatilidade(ListaPesos,cov)\n",
    "            ret_esp = RetornoEsperado(ListaPesos,retorno_anual)\n",
    "            \n",
    "            r = { m:{\n",
    "                'volatilidade':vol,\n",
    "                'retorno_esperado': ret_esp,\n",
    "                'sharp':ret_esp/vol,\n",
    "                'pesos':ListaPesos\n",
    "                \n",
    "                }\n",
    "            }\n",
    "            \n",
    "            d[i].update(r)\n",
    "    \n",
    "    return d"
   ]
  },
  {
   "cell_type": "code",
   "execution_count": 41,
   "id": "2b67f44d",
   "metadata": {
    "scrolled": true
   },
   "outputs": [],
   "source": [
    "#Criar Retorno para periodo expecifico\n",
    "\n",
    "def RetornoPeriodoForaAmostra(df,data_inicio, data_fim, pesos):\n",
    "    \n",
    "    df = df[(df.index >= data_inicio) & (df.index <= data_fim)]\n",
    "    \n",
    "    pesos = np.asarray(pesos)\n",
    "    \n",
    "    retorno = df\n",
    "    retorno_anual = retorno.mean() * 264\n",
    "    cov = retorno.cov() * 264\n",
    "    corr = retorno.corr()\n",
    "    \n",
    "    retorno_esperado = RetornoEsperado(pesos,retorno_anual) #np.dot(pesos,retorno_anual)\n",
    "    \n",
    "    volatilidade = Volatilidade(pesos,cov) #np.sqrt(np.dot(pesos.T, np.dot(cov,pesos)))\n",
    "    \n",
    "    d = {\n",
    "    'retorno_periodo':retorno_esperado,\n",
    "    'volatilidade': volatilidade,\n",
    "    'sharpe': retorno_esperado/volatilidade\n",
    "        \n",
    "    }\n",
    "    \n",
    "    return d"
   ]
  },
  {
   "cell_type": "code",
   "execution_count": 42,
   "id": "d9d7ea7c",
   "metadata": {
    "scrolled": true
   },
   "outputs": [
    {
     "name": "stdout",
     "output_type": "stream",
     "text": [
      "-------------------------PERIODO AMOSTRA------------------------\n"
     ]
    }
   ],
   "source": [
    "resultado = {}\n",
    "print(\"-------------------------PERIODO AMOSTRA------------------------\")\n",
    "#Amostra Periodo\n",
    "inicio = '2016-08-25'\n",
    "fim = '2018-12-31'\n",
    "ret_pesos = Carteiras(df,inicio, fim)\n",
    "resultado.update({'amostra':ret_pesos})\n"
   ]
  },
  {
   "cell_type": "code",
   "execution_count": 43,
   "id": "c84e3753",
   "metadata": {
    "scrolled": true
   },
   "outputs": [
    {
     "name": "stdout",
     "output_type": "stream",
     "text": [
      "------------------------Fora Amostra-------------------------------\n",
      "Carteira:\n",
      "Carteira:\n",
      "Carteira:\n",
      "Carteira:\n",
      "Carteira:\n"
     ]
    }
   ],
   "source": [
    "print(\"------------------------Fora Amostra-------------------------------\")\n",
    "inicio_f_amostra = '2019-01-01'\n",
    "fim_f_amostra = '2019-12-31'\n",
    "datas = CriaListaPeriodoTestes(inicio_f_amostra,fim_f_amostra)\n",
    "\n",
    "\n",
    "simulacoes = {}\n",
    "for ret in resultado['amostra']:\n",
    "    simulacoes.update({ret:{}})\n",
    "    for cart in resultado['amostra'][ret]:\n",
    "        pesos = resultado['amostra'][ret][cart]['pesos']\n",
    "        simulacoes[ret].update({cart:{}})\n",
    "        lista_simulacoes = list()\n",
    "        print('Carteira:')\n",
    "        for i in datas:\n",
    "            ret_periodo = RetornoPeriodoForaAmostra(df,i['inicio'],i['fim'],pesos)\n",
    "            ret_periodo.update(i)\n",
    "            ret_periodo.update({'pesos_atuais':pesos})\n",
    "            \n",
    "            recalc_pesos = Carteiras(df,inicio, i['fim'])\n",
    "            novos_pesos = recalc_pesos[ret][cart]['pesos']\n",
    "            \n",
    "            ret_periodo.update({'novos_pesos':novos_pesos})\n",
    "            pesos = novos_pesos\n",
    "            \n",
    "            lista_simulacoes.append(ret_periodo)\n",
    "            \n",
    "        simulacoes[ret][cart].update({'valor':lista_simulacoes})\n",
    "            #break\n",
    "            \n",
    "        #break\n",
    "    #break"
   ]
  },
  {
   "cell_type": "code",
   "execution_count": 44,
   "id": "ae70a676",
   "metadata": {
    "scrolled": true
   },
   "outputs": [],
   "source": [
    "sim_stats = pd.DataFrame()\n",
    "list_stats_sim = list()\n",
    "for i in simulacoes.keys():\n",
    "    for j in simulacoes[i].keys():\n",
    "    \n",
    "        v = str(i)+'-'+str(j)\n",
    "        sim_stats[v] = pd.DataFrame(simulacoes[i][j]['valor'])['retorno_periodo']\n",
    "\n",
    "sim_stats.index = pd.DataFrame(simulacoes[i][j]['valor'])['inicio']\n",
    "#sim_stats['fim'] = pd.DataFrame(simulacoes[i][j]['valor'])['fim']"
   ]
  },
  {
   "cell_type": "code",
   "execution_count": 45,
   "id": "06c89a63",
   "metadata": {
    "scrolled": true
   },
   "outputs": [],
   "source": [
    "sim_volatilidade = pd.DataFrame()\n",
    "for i in simulacoes.keys():\n",
    "    for j in simulacoes[i].keys():\n",
    "    \n",
    "        v = str(i)+'-'+str(j)\n",
    "        sim_volatilidade[v] = pd.DataFrame(simulacoes[i][j]['valor'])['volatilidade']\n",
    "\n",
    "sim_volatilidade.index = pd.DataFrame(simulacoes[i][j]['valor'])['inicio']\n",
    "#sim_stats['fim'] = pd.DataFrame(simulacoes[i][j]['valor'])['fim']"
   ]
  },
  {
   "cell_type": "code",
   "execution_count": 46,
   "id": "4843a781",
   "metadata": {
    "scrolled": true
   },
   "outputs": [],
   "source": [
    "sim_stats_sharpe = pd.DataFrame()\n",
    "list_stats_sim = list()\n",
    "for i in simulacoes.keys():\n",
    "    for j in simulacoes[i].keys():\n",
    "    \n",
    "        v = str(i)+'-'+str(j)\n",
    "        sim_stats_sharpe[v] = pd.DataFrame(simulacoes[i][j]['valor'])['sharpe']\n",
    "\n",
    "sim_stats_sharpe.index = pd.DataFrame(simulacoes[i][j]['valor'])['inicio']\n",
    "#sim_stats['fim'] = pd.DataFrame(simulacoes[i][j]['valor'])['fim']"
   ]
  },
  {
   "cell_type": "code",
   "execution_count": null,
   "id": "a71df9c9",
   "metadata": {
    "scrolled": true
   },
   "outputs": [],
   "source": []
  },
  {
   "cell_type": "code",
   "execution_count": null,
   "id": "6743153f",
   "metadata": {
    "scrolled": true
   },
   "outputs": [],
   "source": []
  },
  {
   "cell_type": "markdown",
   "id": "5e450a2b",
   "metadata": {},
   "source": [
    "# Grafico de Retornos - Periodo Fora da Amostra"
   ]
  },
  {
   "cell_type": "code",
   "execution_count": 47,
   "id": "889bede4",
   "metadata": {
    "scrolled": true
   },
   "outputs": [
    {
     "data": {
      "text/plain": [
       "<AxesSubplot:xlabel='inicio'>"
      ]
     },
     "execution_count": 47,
     "metadata": {},
     "output_type": "execute_result"
    },
    {
     "data": {
      "image/png": "[encoded data removed]",
      "text/plain": [
       "<Figure size 1512x648 with 1 Axes>"
      ]
     },
     "metadata": {},
     "output_type": "display_data"
    }
   ],
   "source": [
    "sns.set()\n",
    "sim_stats.plot(figsize=(21,9))"
   ]
  },
  {
   "cell_type": "code",
   "execution_count": 48,
   "id": "d800952f",
   "metadata": {
    "scrolled": true
   },
   "outputs": [
    {
     "data": {
      "text/plain": [
       "<AxesSubplot:xlabel='inicio'>"
      ]
     },
     "execution_count": 48,
     "metadata": {},
     "output_type": "execute_result"
    },
    {
     "data": {
      "image/png": "[encoded data removed]",
      "text/plain": [
       "<Figure size 1512x648 with 1 Axes>"
      ]
     },
     "metadata": {},
     "output_type": "display_data"
    }
   ],
   "source": [
    "sim_stats.plot.bar(figsize=(21,9))"
   ]
  },
  {
   "cell_type": "markdown",
   "id": "3a2c631f",
   "metadata": {},
   "source": [
    "# Tabela de Retornos\n",
    "Periodo Fora da Amostra"
   ]
  },
  {
   "cell_type": "code",
   "execution_count": 49,
   "id": "2a55d67b",
   "metadata": {
    "scrolled": true
   },
   "outputs": [
    {
     "data": {
      "text/html": [
       "<div>\n",
       "<style scoped>\n",
       "    .dataframe tbody tr th:only-of-type {\n",
       "        vertical-align: middle;\n",
       "    }\n",
       "\n",
       "    .dataframe tbody tr th {\n",
       "        vertical-align: top;\n",
       "    }\n",
       "\n",
       "    .dataframe thead th {\n",
       "        text-align: right;\n",
       "    }\n",
       "</style>\n",
       "<table border=\"1\" class=\"dataframe\">\n",
       "  <thead>\n",
       "    <tr style=\"text-align: right;\">\n",
       "      <th></th>\n",
       "      <th>w&gt;0-min_var</th>\n",
       "      <th>w&gt;0-tang</th>\n",
       "      <th>ingenua-ingenua</th>\n",
       "      <th>sem_restricao-min_var</th>\n",
       "      <th>sem_restricao-tang</th>\n",
       "    </tr>\n",
       "    <tr>\n",
       "      <th>inicio</th>\n",
       "      <th></th>\n",
       "      <th></th>\n",
       "      <th></th>\n",
       "      <th></th>\n",
       "      <th></th>\n",
       "    </tr>\n",
       "  </thead>\n",
       "  <tbody>\n",
       "    <tr>\n",
       "      <th>2019-01-01</th>\n",
       "      <td>1.170159</td>\n",
       "      <td>0.605989</td>\n",
       "      <td>-0.053696</td>\n",
       "      <td>1.125837</td>\n",
       "      <td>0.405041</td>\n",
       "    </tr>\n",
       "    <tr>\n",
       "      <th>2019-02-01</th>\n",
       "      <td>-0.044805</td>\n",
       "      <td>0.571636</td>\n",
       "      <td>1.598564</td>\n",
       "      <td>-0.067373</td>\n",
       "      <td>0.827767</td>\n",
       "    </tr>\n",
       "    <tr>\n",
       "      <th>2019-03-01</th>\n",
       "      <td>0.038099</td>\n",
       "      <td>0.279167</td>\n",
       "      <td>0.822360</td>\n",
       "      <td>0.093773</td>\n",
       "      <td>0.353282</td>\n",
       "    </tr>\n",
       "    <tr>\n",
       "      <th>2019-04-01</th>\n",
       "      <td>0.372404</td>\n",
       "      <td>0.862794</td>\n",
       "      <td>1.295500</td>\n",
       "      <td>0.353996</td>\n",
       "      <td>0.881072</td>\n",
       "    </tr>\n",
       "    <tr>\n",
       "      <th>2019-05-01</th>\n",
       "      <td>0.495725</td>\n",
       "      <td>1.684275</td>\n",
       "      <td>2.747907</td>\n",
       "      <td>0.341507</td>\n",
       "      <td>1.864476</td>\n",
       "    </tr>\n",
       "    <tr>\n",
       "      <th>2019-06-01</th>\n",
       "      <td>1.150175</td>\n",
       "      <td>1.696773</td>\n",
       "      <td>1.652349</td>\n",
       "      <td>0.960124</td>\n",
       "      <td>2.185821</td>\n",
       "    </tr>\n",
       "    <tr>\n",
       "      <th>2019-07-01</th>\n",
       "      <td>0.540090</td>\n",
       "      <td>-0.286028</td>\n",
       "      <td>-0.712076</td>\n",
       "      <td>0.649048</td>\n",
       "      <td>-0.382522</td>\n",
       "    </tr>\n",
       "    <tr>\n",
       "      <th>2019-08-01</th>\n",
       "      <td>0.230414</td>\n",
       "      <td>0.194517</td>\n",
       "      <td>-0.526949</td>\n",
       "      <td>0.066126</td>\n",
       "      <td>0.425128</td>\n",
       "    </tr>\n",
       "    <tr>\n",
       "      <th>2019-09-01</th>\n",
       "      <td>0.086503</td>\n",
       "      <td>-0.038161</td>\n",
       "      <td>-0.075923</td>\n",
       "      <td>0.025636</td>\n",
       "      <td>-0.171952</td>\n",
       "    </tr>\n",
       "    <tr>\n",
       "      <th>2019-10-01</th>\n",
       "      <td>0.283059</td>\n",
       "      <td>0.231174</td>\n",
       "      <td>0.291938</td>\n",
       "      <td>0.376115</td>\n",
       "      <td>0.263069</td>\n",
       "    </tr>\n",
       "    <tr>\n",
       "      <th>2019-11-01</th>\n",
       "      <td>0.556962</td>\n",
       "      <td>0.164221</td>\n",
       "      <td>-0.152250</td>\n",
       "      <td>0.646267</td>\n",
       "      <td>0.215004</td>\n",
       "    </tr>\n",
       "    <tr>\n",
       "      <th>2019-12-01</th>\n",
       "      <td>1.899360</td>\n",
       "      <td>1.370154</td>\n",
       "      <td>0.282994</td>\n",
       "      <td>1.983377</td>\n",
       "      <td>1.980909</td>\n",
       "    </tr>\n",
       "  </tbody>\n",
       "</table>\n",
       "</div>"
      ],
      "text/plain": [
       "            w>0-min_var  w>0-tang  ingenua-ingenua  sem_restricao-min_var  \\\n",
       "inicio                                                                      \n",
       "2019-01-01     1.170159  0.605989        -0.053696               1.125837   \n",
       "2019-02-01    -0.044805  0.571636         1.598564              -0.067373   \n",
       "2019-03-01     0.038099  0.279167         0.822360               0.093773   \n",
       "2019-04-01     0.372404  0.862794         1.295500               0.353996   \n",
       "2019-05-01     0.495725  1.684275         2.747907               0.341507   \n",
       "2019-06-01     1.150175  1.696773         1.652349               0.960124   \n",
       "2019-07-01     0.540090 -0.286028        -0.712076               0.649048   \n",
       "2019-08-01     0.230414  0.194517        -0.526949               0.066126   \n",
       "2019-09-01     0.086503 -0.038161        -0.075923               0.025636   \n",
       "2019-10-01     0.283059  0.231174         0.291938               0.376115   \n",
       "2019-11-01     0.556962  0.164221        -0.152250               0.646267   \n",
       "2019-12-01     1.899360  1.370154         0.282994               1.983377   \n",
       "\n",
       "            sem_restricao-tang  \n",
       "inicio                          \n",
       "2019-01-01            0.405041  \n",
       "2019-02-01            0.827767  \n",
       "2019-03-01            0.353282  \n",
       "2019-04-01            0.881072  \n",
       "2019-05-01            1.864476  \n",
       "2019-06-01            2.185821  \n",
       "2019-07-01           -0.382522  \n",
       "2019-08-01            0.425128  \n",
       "2019-09-01           -0.171952  \n",
       "2019-10-01            0.263069  \n",
       "2019-11-01            0.215004  \n",
       "2019-12-01            1.980909  "
      ]
     },
     "execution_count": 49,
     "metadata": {},
     "output_type": "execute_result"
    }
   ],
   "source": [
    "sim_stats"
   ]
  },
  {
   "cell_type": "code",
   "execution_count": null,
   "id": "8c0e4bfb",
   "metadata": {
    "scrolled": true
   },
   "outputs": [],
   "source": []
  },
  {
   "cell_type": "code",
   "execution_count": 50,
   "id": "c6bc1d63",
   "metadata": {
    "scrolled": true
   },
   "outputs": [
    {
     "data": {
      "text/plain": [
       "w>0-min_var              0.564845\n",
       "w>0-tang                 0.611376\n",
       "ingenua-ingenua          0.597560\n",
       "sem_restricao-min_var    0.546203\n",
       "sem_restricao-tang       0.737258\n",
       "dtype: float64"
      ]
     },
     "execution_count": 50,
     "metadata": {},
     "output_type": "execute_result"
    }
   ],
   "source": [
    "#Retorno Médio no periodo fora da amostra\n",
    "sim_stats.mean()"
   ]
  },
  {
   "cell_type": "markdown",
   "id": "a5498551",
   "metadata": {},
   "source": [
    "# Tabela de Volatilidade"
   ]
  },
  {
   "cell_type": "code",
   "execution_count": 51,
   "id": "4b7c22bd",
   "metadata": {
    "scrolled": true
   },
   "outputs": [
    {
     "data": {
      "text/html": [
       "<div>\n",
       "<style scoped>\n",
       "    .dataframe tbody tr th:only-of-type {\n",
       "        vertical-align: middle;\n",
       "    }\n",
       "\n",
       "    .dataframe tbody tr th {\n",
       "        vertical-align: top;\n",
       "    }\n",
       "\n",
       "    .dataframe thead th {\n",
       "        text-align: right;\n",
       "    }\n",
       "</style>\n",
       "<table border=\"1\" class=\"dataframe\">\n",
       "  <thead>\n",
       "    <tr style=\"text-align: right;\">\n",
       "      <th></th>\n",
       "      <th>w&gt;0-min_var</th>\n",
       "      <th>w&gt;0-tang</th>\n",
       "      <th>ingenua-ingenua</th>\n",
       "      <th>sem_restricao-min_var</th>\n",
       "      <th>sem_restricao-tang</th>\n",
       "    </tr>\n",
       "    <tr>\n",
       "      <th>inicio</th>\n",
       "      <th></th>\n",
       "      <th></th>\n",
       "      <th></th>\n",
       "      <th></th>\n",
       "      <th></th>\n",
       "    </tr>\n",
       "  </thead>\n",
       "  <tbody>\n",
       "    <tr>\n",
       "      <th>2019-01-01</th>\n",
       "      <td>0.127677</td>\n",
       "      <td>0.191046</td>\n",
       "      <td>0.283931</td>\n",
       "      <td>0.130689</td>\n",
       "      <td>0.250830</td>\n",
       "    </tr>\n",
       "    <tr>\n",
       "      <th>2019-02-01</th>\n",
       "      <td>0.149413</td>\n",
       "      <td>0.212431</td>\n",
       "      <td>0.391650</td>\n",
       "      <td>0.150832</td>\n",
       "      <td>0.242511</td>\n",
       "    </tr>\n",
       "    <tr>\n",
       "      <th>2019-03-01</th>\n",
       "      <td>0.194548</td>\n",
       "      <td>0.155554</td>\n",
       "      <td>0.128848</td>\n",
       "      <td>0.181976</td>\n",
       "      <td>0.154016</td>\n",
       "    </tr>\n",
       "    <tr>\n",
       "      <th>2019-04-01</th>\n",
       "      <td>0.120305</td>\n",
       "      <td>0.217005</td>\n",
       "      <td>0.372415</td>\n",
       "      <td>0.116080</td>\n",
       "      <td>0.266375</td>\n",
       "    </tr>\n",
       "    <tr>\n",
       "      <th>2019-05-01</th>\n",
       "      <td>0.163631</td>\n",
       "      <td>0.242912</td>\n",
       "      <td>0.365057</td>\n",
       "      <td>0.151347</td>\n",
       "      <td>0.303709</td>\n",
       "    </tr>\n",
       "    <tr>\n",
       "      <th>2019-06-01</th>\n",
       "      <td>0.122719</td>\n",
       "      <td>0.236235</td>\n",
       "      <td>0.344397</td>\n",
       "      <td>0.129198</td>\n",
       "      <td>0.283572</td>\n",
       "    </tr>\n",
       "    <tr>\n",
       "      <th>2019-07-01</th>\n",
       "      <td>0.150449</td>\n",
       "      <td>0.302812</td>\n",
       "      <td>0.424789</td>\n",
       "      <td>0.150759</td>\n",
       "      <td>0.359066</td>\n",
       "    </tr>\n",
       "    <tr>\n",
       "      <th>2019-08-01</th>\n",
       "      <td>0.220981</td>\n",
       "      <td>0.205207</td>\n",
       "      <td>0.258456</td>\n",
       "      <td>0.244775</td>\n",
       "      <td>0.238710</td>\n",
       "    </tr>\n",
       "    <tr>\n",
       "      <th>2019-09-01</th>\n",
       "      <td>0.116139</td>\n",
       "      <td>0.212148</td>\n",
       "      <td>0.348957</td>\n",
       "      <td>0.102868</td>\n",
       "      <td>0.264051</td>\n",
       "    </tr>\n",
       "    <tr>\n",
       "      <th>2019-10-01</th>\n",
       "      <td>0.130542</td>\n",
       "      <td>0.186509</td>\n",
       "      <td>0.294419</td>\n",
       "      <td>0.132423</td>\n",
       "      <td>0.207254</td>\n",
       "    </tr>\n",
       "    <tr>\n",
       "      <th>2019-11-01</th>\n",
       "      <td>0.133939</td>\n",
       "      <td>0.157774</td>\n",
       "      <td>0.209951</td>\n",
       "      <td>0.122928</td>\n",
       "      <td>0.188806</td>\n",
       "    </tr>\n",
       "    <tr>\n",
       "      <th>2019-12-01</th>\n",
       "      <td>0.110631</td>\n",
       "      <td>0.166496</td>\n",
       "      <td>0.282981</td>\n",
       "      <td>0.123384</td>\n",
       "      <td>0.194621</td>\n",
       "    </tr>\n",
       "  </tbody>\n",
       "</table>\n",
       "</div>"
      ],
      "text/plain": [
       "            w>0-min_var  w>0-tang  ingenua-ingenua  sem_restricao-min_var  \\\n",
       "inicio                                                                      \n",
       "2019-01-01     0.127677  0.191046         0.283931               0.130689   \n",
       "2019-02-01     0.149413  0.212431         0.391650               0.150832   \n",
       "2019-03-01     0.194548  0.155554         0.128848               0.181976   \n",
       "2019-04-01     0.120305  0.217005         0.372415               0.116080   \n",
       "2019-05-01     0.163631  0.242912         0.365057               0.151347   \n",
       "2019-06-01     0.122719  0.236235         0.344397               0.129198   \n",
       "2019-07-01     0.150449  0.302812         0.424789               0.150759   \n",
       "2019-08-01     0.220981  0.205207         0.258456               0.244775   \n",
       "2019-09-01     0.116139  0.212148         0.348957               0.102868   \n",
       "2019-10-01     0.130542  0.186509         0.294419               0.132423   \n",
       "2019-11-01     0.133939  0.157774         0.209951               0.122928   \n",
       "2019-12-01     0.110631  0.166496         0.282981               0.123384   \n",
       "\n",
       "            sem_restricao-tang  \n",
       "inicio                          \n",
       "2019-01-01            0.250830  \n",
       "2019-02-01            0.242511  \n",
       "2019-03-01            0.154016  \n",
       "2019-04-01            0.266375  \n",
       "2019-05-01            0.303709  \n",
       "2019-06-01            0.283572  \n",
       "2019-07-01            0.359066  \n",
       "2019-08-01            0.238710  \n",
       "2019-09-01            0.264051  \n",
       "2019-10-01            0.207254  \n",
       "2019-11-01            0.188806  \n",
       "2019-12-01            0.194621  "
      ]
     },
     "execution_count": 51,
     "metadata": {},
     "output_type": "execute_result"
    }
   ],
   "source": [
    "sim_volatilidade"
   ]
  },
  {
   "cell_type": "code",
   "execution_count": 70,
   "id": "261e2ddb",
   "metadata": {},
   "outputs": [
    {
     "data": {
      "text/plain": [
       "w>0-min_var              0.145081\n",
       "w>0-tang                 0.207177\n",
       "ingenua-ingenua          0.308821\n",
       "sem_restricao-min_var    0.144772\n",
       "sem_restricao-tang       0.246127\n",
       "dtype: float64"
      ]
     },
     "execution_count": 70,
     "metadata": {},
     "output_type": "execute_result"
    }
   ],
   "source": [
    "sim_volatilidade.mean()"
   ]
  },
  {
   "cell_type": "markdown",
   "id": "f8fda14f",
   "metadata": {},
   "source": [
    "# Grafico de Volatilidade"
   ]
  },
  {
   "cell_type": "code",
   "execution_count": 52,
   "id": "21fb4edb",
   "metadata": {
    "scrolled": true
   },
   "outputs": [
    {
     "data": {
      "text/plain": [
       "<AxesSubplot:xlabel='inicio'>"
      ]
     },
     "execution_count": 52,
     "metadata": {},
     "output_type": "execute_result"
    },
    {
     "data": {
      "image/png": "[encoded data removed]",
      "text/plain": [
       "<Figure size 1512x648 with 1 Axes>"
      ]
     },
     "metadata": {},
     "output_type": "display_data"
    }
   ],
   "source": [
    "sns.set()\n",
    "sim_volatilidade.plot(figsize=(21,9))"
   ]
  },
  {
   "cell_type": "code",
   "execution_count": 59,
   "id": "81bde236",
   "metadata": {
    "scrolled": true
   },
   "outputs": [
    {
     "data": {
      "text/plain": [
       "<AxesSubplot:xlabel='inicio'>"
      ]
     },
     "execution_count": 59,
     "metadata": {},
     "output_type": "execute_result"
    },
    {
     "data": {
      "image/png": "[encoded data removed]",
      "text/plain": [
       "<Figure size 1512x648 with 1 Axes>"
      ]
     },
     "metadata": {},
     "output_type": "display_data"
    }
   ],
   "source": [
    "sns.set()\n",
    "sim_volatilidade.plot.bar(figsize=(21,9))"
   ]
  },
  {
   "cell_type": "markdown",
   "id": "c8a3ec9c",
   "metadata": {},
   "source": [
    "# Grafico Sharpe"
   ]
  },
  {
   "cell_type": "code",
   "execution_count": 54,
   "id": "60bacf32",
   "metadata": {
    "scrolled": true
   },
   "outputs": [
    {
     "data": {
      "text/plain": [
       "<AxesSubplot:xlabel='inicio'>"
      ]
     },
     "execution_count": 54,
     "metadata": {},
     "output_type": "execute_result"
    },
    {
     "data": {
      "image/png": "[encoded data removed]",
      "text/plain": [
       "<Figure size 1512x648 with 1 Axes>"
      ]
     },
     "metadata": {},
     "output_type": "display_data"
    }
   ],
   "source": [
    "sns.set()\n",
    "sim_stats_sharpe.plot(figsize=(21,9))"
   ]
  },
  {
   "cell_type": "code",
   "execution_count": 60,
   "id": "8ba6edee",
   "metadata": {
    "scrolled": true
   },
   "outputs": [
    {
     "data": {
      "text/plain": [
       "<AxesSubplot:xlabel='inicio'>"
      ]
     },
     "execution_count": 60,
     "metadata": {},
     "output_type": "execute_result"
    },
    {
     "data": {
      "image/png": "[encoded data removed]",
      "text/plain": [
       "<Figure size 1512x648 with 1 Axes>"
      ]
     },
     "metadata": {},
     "output_type": "display_data"
    }
   ],
   "source": [
    "sns.set()\n",
    "sim_stats_sharpe.plot.bar(figsize=(21,9))"
   ]
  },
  {
   "cell_type": "markdown",
   "id": "9f41f20b",
   "metadata": {},
   "source": [
    "# Tabela Sharpe"
   ]
  },
  {
   "cell_type": "code",
   "execution_count": 56,
   "id": "37df0291",
   "metadata": {
    "scrolled": true
   },
   "outputs": [
    {
     "data": {
      "text/html": [
       "<div>\n",
       "<style scoped>\n",
       "    .dataframe tbody tr th:only-of-type {\n",
       "        vertical-align: middle;\n",
       "    }\n",
       "\n",
       "    .dataframe tbody tr th {\n",
       "        vertical-align: top;\n",
       "    }\n",
       "\n",
       "    .dataframe thead th {\n",
       "        text-align: right;\n",
       "    }\n",
       "</style>\n",
       "<table border=\"1\" class=\"dataframe\">\n",
       "  <thead>\n",
       "    <tr style=\"text-align: right;\">\n",
       "      <th></th>\n",
       "      <th>w&gt;0-min_var</th>\n",
       "      <th>w&gt;0-tang</th>\n",
       "      <th>ingenua-ingenua</th>\n",
       "      <th>sem_restricao-min_var</th>\n",
       "      <th>sem_restricao-tang</th>\n",
       "    </tr>\n",
       "    <tr>\n",
       "      <th>inicio</th>\n",
       "      <th></th>\n",
       "      <th></th>\n",
       "      <th></th>\n",
       "      <th></th>\n",
       "      <th></th>\n",
       "    </tr>\n",
       "  </thead>\n",
       "  <tbody>\n",
       "    <tr>\n",
       "      <th>2019-01-01</th>\n",
       "      <td>9.164970</td>\n",
       "      <td>3.171951</td>\n",
       "      <td>-0.189116</td>\n",
       "      <td>8.614629</td>\n",
       "      <td>1.614799</td>\n",
       "    </tr>\n",
       "    <tr>\n",
       "      <th>2019-02-01</th>\n",
       "      <td>-0.299875</td>\n",
       "      <td>2.690929</td>\n",
       "      <td>4.081615</td>\n",
       "      <td>-0.446677</td>\n",
       "      <td>3.413321</td>\n",
       "    </tr>\n",
       "    <tr>\n",
       "      <th>2019-03-01</th>\n",
       "      <td>0.195831</td>\n",
       "      <td>1.794659</td>\n",
       "      <td>6.382407</td>\n",
       "      <td>0.515304</td>\n",
       "      <td>2.293798</td>\n",
       "    </tr>\n",
       "    <tr>\n",
       "      <th>2019-04-01</th>\n",
       "      <td>3.095501</td>\n",
       "      <td>3.975911</td>\n",
       "      <td>3.478647</td>\n",
       "      <td>3.049577</td>\n",
       "      <td>3.307631</td>\n",
       "    </tr>\n",
       "    <tr>\n",
       "      <th>2019-05-01</th>\n",
       "      <td>3.029534</td>\n",
       "      <td>6.933687</td>\n",
       "      <td>7.527330</td>\n",
       "      <td>2.256444</td>\n",
       "      <td>6.139027</td>\n",
       "    </tr>\n",
       "    <tr>\n",
       "      <th>2019-06-01</th>\n",
       "      <td>9.372464</td>\n",
       "      <td>7.182572</td>\n",
       "      <td>4.797808</td>\n",
       "      <td>7.431418</td>\n",
       "      <td>7.708176</td>\n",
       "    </tr>\n",
       "    <tr>\n",
       "      <th>2019-07-01</th>\n",
       "      <td>3.589853</td>\n",
       "      <td>-0.944574</td>\n",
       "      <td>-1.676305</td>\n",
       "      <td>4.305210</td>\n",
       "      <td>-1.065324</td>\n",
       "    </tr>\n",
       "    <tr>\n",
       "      <th>2019-08-01</th>\n",
       "      <td>1.042686</td>\n",
       "      <td>0.947905</td>\n",
       "      <td>-2.038839</td>\n",
       "      <td>0.270148</td>\n",
       "      <td>1.780938</td>\n",
       "    </tr>\n",
       "    <tr>\n",
       "      <th>2019-09-01</th>\n",
       "      <td>0.744820</td>\n",
       "      <td>-0.179881</td>\n",
       "      <td>-0.217571</td>\n",
       "      <td>0.249218</td>\n",
       "      <td>-0.651205</td>\n",
       "    </tr>\n",
       "    <tr>\n",
       "      <th>2019-10-01</th>\n",
       "      <td>2.168337</td>\n",
       "      <td>1.239481</td>\n",
       "      <td>0.991576</td>\n",
       "      <td>2.840261</td>\n",
       "      <td>1.269308</td>\n",
       "    </tr>\n",
       "    <tr>\n",
       "      <th>2019-11-01</th>\n",
       "      <td>4.158309</td>\n",
       "      <td>1.040864</td>\n",
       "      <td>-0.725171</td>\n",
       "      <td>5.257298</td>\n",
       "      <td>1.138756</td>\n",
       "    </tr>\n",
       "    <tr>\n",
       "      <th>2019-12-01</th>\n",
       "      <td>17.168477</td>\n",
       "      <td>8.229355</td>\n",
       "      <td>1.000045</td>\n",
       "      <td>16.074801</td>\n",
       "      <td>10.178300</td>\n",
       "    </tr>\n",
       "  </tbody>\n",
       "</table>\n",
       "</div>"
      ],
      "text/plain": [
       "            w>0-min_var  w>0-tang  ingenua-ingenua  sem_restricao-min_var  \\\n",
       "inicio                                                                      \n",
       "2019-01-01     9.164970  3.171951        -0.189116               8.614629   \n",
       "2019-02-01    -0.299875  2.690929         4.081615              -0.446677   \n",
       "2019-03-01     0.195831  1.794659         6.382407               0.515304   \n",
       "2019-04-01     3.095501  3.975911         3.478647               3.049577   \n",
       "2019-05-01     3.029534  6.933687         7.527330               2.256444   \n",
       "2019-06-01     9.372464  7.182572         4.797808               7.431418   \n",
       "2019-07-01     3.589853 -0.944574        -1.676305               4.305210   \n",
       "2019-08-01     1.042686  0.947905        -2.038839               0.270148   \n",
       "2019-09-01     0.744820 -0.179881        -0.217571               0.249218   \n",
       "2019-10-01     2.168337  1.239481         0.991576               2.840261   \n",
       "2019-11-01     4.158309  1.040864        -0.725171               5.257298   \n",
       "2019-12-01    17.168477  8.229355         1.000045              16.074801   \n",
       "\n",
       "            sem_restricao-tang  \n",
       "inicio                          \n",
       "2019-01-01            1.614799  \n",
       "2019-02-01            3.413321  \n",
       "2019-03-01            2.293798  \n",
       "2019-04-01            3.307631  \n",
       "2019-05-01            6.139027  \n",
       "2019-06-01            7.708176  \n",
       "2019-07-01           -1.065324  \n",
       "2019-08-01            1.780938  \n",
       "2019-09-01           -0.651205  \n",
       "2019-10-01            1.269308  \n",
       "2019-11-01            1.138756  \n",
       "2019-12-01           10.178300  "
      ]
     },
     "execution_count": 56,
     "metadata": {},
     "output_type": "execute_result"
    }
   ],
   "source": [
    "sim_stats_sharpe"
   ]
  },
  {
   "cell_type": "code",
   "execution_count": null,
   "id": "553e15c8",
   "metadata": {
    "scrolled": true
   },
   "outputs": [],
   "source": []
  },
  {
   "cell_type": "code",
   "execution_count": null,
   "id": "58f2e519",
   "metadata": {
    "scrolled": true
   },
   "outputs": [],
   "source": [
    "======= Testes ========"
   ]
  },
  {
   "cell_type": "code",
   "execution_count": null,
   "id": "0a56f97f",
   "metadata": {
    "scrolled": true
   },
   "outputs": [],
   "source": [
    "print(UltimoDiaMes('2021-01-01'))"
   ]
  },
  {
   "cell_type": "code",
   "execution_count": null,
   "id": "13b977b5",
   "metadata": {
    "scrolled": true
   },
   "outputs": [],
   "source": [
    "a = UltimoDiaMes('2021-01-01')\n",
    "b = UltimoDiaMes('2021-08-01')"
   ]
  },
  {
   "cell_type": "code",
   "execution_count": null,
   "id": "4823824f",
   "metadata": {
    "scrolled": true
   },
   "outputs": [],
   "source": [
    "df = df[(df.index >= a) & (df.index <= b)]"
   ]
  },
  {
   "cell_type": "code",
   "execution_count": null,
   "id": "d6605ef1",
   "metadata": {
    "scrolled": true
   },
   "outputs": [],
   "source": [
    "\n",
    "\n",
    "\n",
    "date = datetime.datetime(data.year,data.month,data.day)\n",
    "nxt_mnth = date.replace(day=28) + datetime.timedelta(days=4)        \n",
    "res = nxt_mnth - datetime.timedelta(days=nxt_mnth.day)"
   ]
  },
  {
   "cell_type": "code",
   "execution_count": null,
   "id": "4da92a3c",
   "metadata": {
    "scrolled": true
   },
   "outputs": [],
   "source": [
    "df"
   ]
  },
  {
   "cell_type": "code",
   "execution_count": null,
   "id": "abaf5d3a",
   "metadata": {
    "scrolled": true
   },
   "outputs": [],
   "source": [
    "import datetime\n",
    "\n",
    "# Data final\n",
    "d2 = datetime.datetime.strptime('2017-05-05', '%Y-%m-%d')\n",
    "\n",
    "# Data inicial\n",
    "d1 = datetime.datetime.strptime('2017-05-01', '%Y-%m-%d')"
   ]
  },
  {
   "cell_type": "code",
   "execution_count": null,
   "id": "23907864",
   "metadata": {
    "scrolled": true
   },
   "outputs": [],
   "source": [
    "# Calculo da quantidade de dias\n",
    "quantidade_dias = abs((d2 - d1).days)"
   ]
  },
  {
   "cell_type": "code",
   "execution_count": null,
   "id": "6f139497",
   "metadata": {
    "scrolled": true
   },
   "outputs": [],
   "source": [
    "retorno_anual"
   ]
  },
  {
   "cell_type": "code",
   "execution_count": null,
   "id": "c4a49b87",
   "metadata": {
    "scrolled": true
   },
   "outputs": [],
   "source": [
    "cov"
   ]
  },
  {
   "cell_type": "code",
   "execution_count": 200,
   "id": "fcd6a43a",
   "metadata": {
    "scrolled": true
   },
   "outputs": [
    {
     "name": "stdout",
     "output_type": "stream",
     "text": [
      "OrderedDict([('Industry_1', 0.41099), ('Industry_2', 0.0), ('Industry_3', 0.15595), ('Industry_4', 0.17474), ('Industry_5', 0.11494), ('Industry_6', 0.0), ('Industry_7', 0.14338)])\n",
      "Expected annual return: 17.8%\n",
      "Annual volatility: 23.3%\n",
      "Sharpe Ratio: 0.68\n"
     ]
    },
    {
     "data": {
      "text/plain": [
       "(0.17818180023549784, 0.23336429641806097, 0.6778320534179861)"
      ]
     },
     "execution_count": 200,
     "metadata": {},
     "output_type": "execute_result"
    }
   ],
   "source": [
    "ef = pt.EfficientFrontier(retorno_anual, cov, weight_bounds=(0,1))\n",
    "weights = ef.min_volatility() \n",
    "cleaned_weights = ef.clean_weights() \n",
    "print(cleaned_weights) \n",
    "ef.portfolio_performance(verbose=True)"
   ]
  },
  {
   "cell_type": "code",
   "execution_count": null,
   "id": "c99f7de7",
   "metadata": {
    "scrolled": true
   },
   "outputs": [],
   "source": [
    "ef = pt.EfficientFrontier(retorno_anual, cov,weight_bounds=(0,1))\n",
    "weights = ef.max_sharpe() \n",
    "cleaned_weights = ef.clean_weights() \n",
    "print(cleaned_weights) \n",
    "ef.portfolio_performance(verbose=True)"
   ]
  },
  {
   "cell_type": "code",
   "execution_count": null,
   "id": "6cbf26c3",
   "metadata": {
    "scrolled": true
   },
   "outputs": [],
   "source": [
    "\n"
   ]
  },
  {
   "cell_type": "code",
   "execution_count": null,
   "id": "399d0674",
   "metadata": {
    "scrolled": true
   },
   "outputs": [],
   "source": [
    "#Exemplo que usei para criar e usar as funções e range de data\n",
    "\n",
    "    "
   ]
  },
  {
   "cell_type": "code",
   "execution_count": null,
   "id": "71a8d56b",
   "metadata": {
    "scrolled": true
   },
   "outputs": [],
   "source": [
    "for data in datas:\n",
    "    data['inicio'],data['fim']"
   ]
  },
  {
   "cell_type": "code",
   "execution_count": null,
   "id": "f446c45a",
   "metadata": {
    "scrolled": true
   },
   "outputs": [],
   "source": []
  },
  {
   "cell_type": "code",
   "execution_count": null,
   "id": "486a256c",
   "metadata": {
    "scrolled": true
   },
   "outputs": [],
   "source": []
  },
  {
   "cell_type": "code",
   "execution_count": null,
   "id": "a8c7dc1d",
   "metadata": {
    "scrolled": true
   },
   "outputs": [],
   "source": [
    "pesos = [resultado['amostra']['w>0']['min_var'][i] for i in resultado['amostra']['w>0']['min_var']]"
   ]
  },
  {
   "cell_type": "code",
   "execution_count": null,
   "id": "05bc823a",
   "metadata": {
    "scrolled": true
   },
   "outputs": [],
   "source": [
    "retorno_pesos"
   ]
  },
  {
   "cell_type": "code",
   "execution_count": null,
   "id": "e72bf2d3",
   "metadata": {
    "scrolled": true
   },
   "outputs": [],
   "source": [
    "a = ret_pesos['w>0']['min_var']"
   ]
  },
  {
   "cell_type": "code",
   "execution_count": null,
   "id": "371a7ad8",
   "metadata": {
    "scrolled": true
   },
   "outputs": [],
   "source": [
    "[a[i] for i in a]"
   ]
  },
  {
   "cell_type": "code",
   "execution_count": null,
   "id": "cdc2ec23",
   "metadata": {
    "scrolled": true
   },
   "outputs": [],
   "source": []
  },
  {
   "cell_type": "code",
   "execution_count": null,
   "id": "13d357c3",
   "metadata": {
    "scrolled": true
   },
   "outputs": [],
   "source": [
    "\n",
    "np.sqrt(np.dot(ret_pesos['ingenua'].T, np.dot(cov,pesos)))"
   ]
  },
  {
   "cell_type": "code",
   "execution_count": null,
   "id": "40ffc8a5",
   "metadata": {
    "scrolled": true
   },
   "outputs": [],
   "source": []
  },
  {
   "cell_type": "code",
   "execution_count": null,
   "id": "c4dafd8d",
   "metadata": {
    "scrolled": true
   },
   "outputs": [],
   "source": [
    "pesos"
   ]
  },
  {
   "cell_type": "code",
   "execution_count": null,
   "id": "ef0c095d",
   "metadata": {
    "scrolled": true
   },
   "outputs": [],
   "source": [
    "\n",
    "np.sqrt(np.dot(np.asarray(pesos).T, np.dot(cov,pesos)))"
   ]
  },
  {
   "cell_type": "code",
   "execution_count": null,
   "id": "98013c53",
   "metadata": {
    "scrolled": true
   },
   "outputs": [],
   "source": [
    "type(ret_pesos['ingenua'])"
   ]
  },
  {
   "cell_type": "code",
   "execution_count": null,
   "id": "9fd1fe28",
   "metadata": {
    "scrolled": true
   },
   "outputs": [],
   "source": [
    "type(pesos)"
   ]
  },
  {
   "cell_type": "code",
   "execution_count": null,
   "id": "d0a9337a",
   "metadata": {
    "scrolled": true
   },
   "outputs": [],
   "source": [
    "pesos = np.asarray(pesos)"
   ]
  },
  {
   "cell_type": "code",
   "execution_count": null,
   "id": "14c49ce8",
   "metadata": {
    "scrolled": true
   },
   "outputs": [],
   "source": [
    "ret_pesos"
   ]
  },
  {
   "cell_type": "code",
   "execution_count": null,
   "id": "e04ce8ad",
   "metadata": {
    "scrolled": true
   },
   "outputs": [],
   "source": []
  },
  {
   "cell_type": "code",
   "execution_count": null,
   "id": "5b68b4cd",
   "metadata": {
    "scrolled": true
   },
   "outputs": [],
   "source": [
    "ConvertDictArray(ret_pesos['w>0']['min_var'])"
   ]
  },
  {
   "cell_type": "code",
   "execution_count": null,
   "id": "a31385b2",
   "metadata": {
    "scrolled": true
   },
   "outputs": [],
   "source": [
    "type(lista)"
   ]
  },
  {
   "cell_type": "code",
   "execution_count": null,
   "id": "95f477a0",
   "metadata": {
    "scrolled": true
   },
   "outputs": [],
   "source": [
    "pp(resultado)"
   ]
  },
  {
   "cell_type": "code",
   "execution_count": null,
   "id": "6c39a663",
   "metadata": {
    "scrolled": true
   },
   "outputs": [],
   "source": [
    "pd.DataFrame(resultado['amostra']['sem_restricao'])"
   ]
  },
  {
   "cell_type": "code",
   "execution_count": null,
   "id": "fc6ee706",
   "metadata": {
    "scrolled": true
   },
   "outputs": [],
   "source": [
    "\n"
   ]
  },
  {
   "cell_type": "code",
   "execution_count": null,
   "id": "dd09356f",
   "metadata": {
    "scrolled": true
   },
   "outputs": [],
   "source": []
  },
  {
   "cell_type": "code",
   "execution_count": null,
   "id": "420fa703",
   "metadata": {
    "scrolled": true
   },
   "outputs": [],
   "source": [
    "RetornoPeriodoForaAmostra(df,'2021-03-01','2021-03-31', [0.25, 0.25, 0.25, 0.25])"
   ]
  },
  {
   "cell_type": "code",
   "execution_count": null,
   "id": "fda67420",
   "metadata": {
    "scrolled": true
   },
   "outputs": [],
   "source": [
    "simulacoes = {}\n",
    "for ret in resultado['amostra']:\n",
    "    simulacoes.update({ret:{}})\n",
    "    for cart in resultado['amostra'][ret]:\n",
    "        pesos = resultado['amostra'][ret][cart]['pesos']\n",
    "        simulacoes[ret].update({cart:{}})\n",
    "        lista_simulacoes = list()\n",
    "        print('Carteira:')\n",
    "        for i in datas:\n",
    "            ret_periodo = RetornoPeriodoForaAmostra(df,i['inicio'],i['fim'],pesos)\n",
    "            ret_periodo.update(i)\n",
    "            ret_periodo.update({'pesos_atuais':pesos})\n",
    "            \n",
    "            recalc_pesos = Carteiras(df,inicio, i['fim'])\n",
    "            novos_pesos = recalc_pesos[ret][cart]['pesos']\n",
    "            \n",
    "            ret_periodo.update({'novos_pesos':novos_pesos})\n",
    "            pesos = novos_pesos\n",
    "            \n",
    "            lista_simulacoes.append(ret_periodo)\n",
    "            \n",
    "        simulacoes[ret][cart].update({'valor':lista_simulacoes})\n",
    "            #break\n",
    "            \n",
    "        #break\n",
    "    #break\n",
    "\n",
    "    "
   ]
  },
  {
   "cell_type": "code",
   "execution_count": null,
   "id": "3639bf27",
   "metadata": {
    "scrolled": true
   },
   "outputs": [],
   "source": [
    "for i in datas:\n",
    "    print(RetornoPeriodoForaAmostra(df,i['inicio'],i['fim'],[0.25, 0.25, 0.25, 0.25]))"
   ]
  },
  {
   "cell_type": "code",
   "execution_count": null,
   "id": "a349b06b",
   "metadata": {
    "scrolled": true
   },
   "outputs": [],
   "source": []
  },
  {
   "cell_type": "code",
   "execution_count": 42,
   "id": "7e94e350",
   "metadata": {
    "scrolled": true
   },
   "outputs": [
    {
     "name": "stdout",
     "output_type": "stream",
     "text": [
      "dict_keys(['min_var', 'tang'])\n"
     ]
    }
   ],
   "source": [
    "print(simulacoes['sem_restricao'].keys())"
   ]
  },
  {
   "cell_type": "code",
   "execution_count": 344,
   "id": "525049aa",
   "metadata": {
    "scrolled": true
   },
   "outputs": [
    {
     "data": {
      "text/html": [
       "<div>\n",
       "<style scoped>\n",
       "    .dataframe tbody tr th:only-of-type {\n",
       "        vertical-align: middle;\n",
       "    }\n",
       "\n",
       "    .dataframe tbody tr th {\n",
       "        vertical-align: top;\n",
       "    }\n",
       "\n",
       "    .dataframe thead th {\n",
       "        text-align: right;\n",
       "    }\n",
       "</style>\n",
       "<table border=\"1\" class=\"dataframe\">\n",
       "  <thead>\n",
       "    <tr style=\"text-align: right;\">\n",
       "      <th></th>\n",
       "      <th>retorno_periodo</th>\n",
       "      <th>volatilidade</th>\n",
       "      <th>sharpe</th>\n",
       "      <th>inicio</th>\n",
       "      <th>fim</th>\n",
       "      <th>pesos_atuais</th>\n",
       "      <th>novos_pesos</th>\n",
       "    </tr>\n",
       "  </thead>\n",
       "  <tbody>\n",
       "    <tr>\n",
       "      <th>0</th>\n",
       "      <td>0.640143</td>\n",
       "      <td>0.151634</td>\n",
       "      <td>4.221642</td>\n",
       "      <td>2019-01-01</td>\n",
       "      <td>2019-01-31</td>\n",
       "      <td>[0.60864, 0.0, 0.0, 0.0, 0.28245, 0.0, 0.0, 0....</td>\n",
       "      <td>[0.59299, 0.0, 0.0, 0.0, 0.31117, 0.0, 0.0, 0....</td>\n",
       "    </tr>\n",
       "    <tr>\n",
       "      <th>1</th>\n",
       "      <td>0.282632</td>\n",
       "      <td>0.155615</td>\n",
       "      <td>1.816225</td>\n",
       "      <td>2019-02-01</td>\n",
       "      <td>2019-02-28</td>\n",
       "      <td>[0.59299, 0.0, 0.0, 0.0, 0.31117, 0.0, 0.0, 0....</td>\n",
       "      <td>[0.59409, 0.0, 0.0, 0.0, 0.30293, 0.0, 0.0, 0....</td>\n",
       "    </tr>\n",
       "    <tr>\n",
       "      <th>2</th>\n",
       "      <td>0.158073</td>\n",
       "      <td>0.140737</td>\n",
       "      <td>1.123179</td>\n",
       "      <td>2019-03-01</td>\n",
       "      <td>2019-03-31</td>\n",
       "      <td>[0.59409, 0.0, 0.0, 0.0, 0.30293, 0.0, 0.0, 0....</td>\n",
       "      <td>[0.57639, 0.0, 0.0, 0.0, 0.31154, 0.0, 0.0, 0....</td>\n",
       "    </tr>\n",
       "    <tr>\n",
       "      <th>3</th>\n",
       "      <td>0.293840</td>\n",
       "      <td>0.125445</td>\n",
       "      <td>2.342392</td>\n",
       "      <td>2019-04-01</td>\n",
       "      <td>2019-04-30</td>\n",
       "      <td>[0.57639, 0.0, 0.0, 0.0, 0.31154, 0.0, 0.0, 0....</td>\n",
       "      <td>[0.53957, 0.0, 0.0, 0.0, 0.33887, 0.0, 0.0, 0....</td>\n",
       "    </tr>\n",
       "    <tr>\n",
       "      <th>4</th>\n",
       "      <td>0.440760</td>\n",
       "      <td>0.176630</td>\n",
       "      <td>2.495386</td>\n",
       "      <td>2019-05-01</td>\n",
       "      <td>2019-05-31</td>\n",
       "      <td>[0.53957, 0.0, 0.0, 0.0, 0.33887, 0.0, 0.0, 0....</td>\n",
       "      <td>[0.47281, 0.0, 0.0, 0.0, 0.38004, 0.0, 0.0, 0....</td>\n",
       "    </tr>\n",
       "    <tr>\n",
       "      <th>5</th>\n",
       "      <td>0.617426</td>\n",
       "      <td>0.162354</td>\n",
       "      <td>3.802948</td>\n",
       "      <td>2019-06-01</td>\n",
       "      <td>2019-06-30</td>\n",
       "      <td>[0.47281, 0.0, 0.0, 0.0, 0.38004, 0.0, 0.0, 0....</td>\n",
       "      <td>[0.45391, 0.0, 0.0, 0.0, 0.39099, 0.0, 0.0, 0....</td>\n",
       "    </tr>\n",
       "    <tr>\n",
       "      <th>6</th>\n",
       "      <td>-0.125535</td>\n",
       "      <td>0.211234</td>\n",
       "      <td>-0.594291</td>\n",
       "      <td>2019-07-01</td>\n",
       "      <td>2019-07-31</td>\n",
       "      <td>[0.45391, 0.0, 0.0, 0.0, 0.39099, 0.0, 0.0, 0....</td>\n",
       "      <td>[0.44798, 0.0, 0.0, 0.0, 0.40857, 0.0, 0.0, 0....</td>\n",
       "    </tr>\n",
       "    <tr>\n",
       "      <th>7</th>\n",
       "      <td>-0.321979</td>\n",
       "      <td>0.188685</td>\n",
       "      <td>-1.706442</td>\n",
       "      <td>2019-08-01</td>\n",
       "      <td>2019-08-31</td>\n",
       "      <td>[0.44798, 0.0, 0.0, 0.0, 0.40857, 0.0, 0.0, 0....</td>\n",
       "      <td>[0.37637, 0.0, 0.0, 0.0, 0.46713, 0.0, 0.0, 0....</td>\n",
       "    </tr>\n",
       "    <tr>\n",
       "      <th>8</th>\n",
       "      <td>0.135463</td>\n",
       "      <td>0.140837</td>\n",
       "      <td>0.961842</td>\n",
       "      <td>2019-09-01</td>\n",
       "      <td>2019-09-30</td>\n",
       "      <td>[0.37637, 0.0, 0.0, 0.0, 0.46713, 0.0, 0.0, 0....</td>\n",
       "      <td>[0.40435, 0.0, 0.0, 0.0, 0.44801, 0.0, 0.0, 0....</td>\n",
       "    </tr>\n",
       "    <tr>\n",
       "      <th>9</th>\n",
       "      <td>0.088186</td>\n",
       "      <td>0.198335</td>\n",
       "      <td>0.444630</td>\n",
       "      <td>2019-10-01</td>\n",
       "      <td>2019-10-31</td>\n",
       "      <td>[0.40435, 0.0, 0.0, 0.0, 0.44801, 0.0, 0.0, 0....</td>\n",
       "      <td>[0.38066, 0.0, 0.0, 0.0, 0.46535, 0.0, 0.0, 0....</td>\n",
       "    </tr>\n",
       "    <tr>\n",
       "      <th>10</th>\n",
       "      <td>0.077423</td>\n",
       "      <td>0.114726</td>\n",
       "      <td>0.674858</td>\n",
       "      <td>2019-11-01</td>\n",
       "      <td>2019-11-30</td>\n",
       "      <td>[0.38066, 0.0, 0.0, 0.0, 0.46535, 0.0, 0.0, 0....</td>\n",
       "      <td>[0.39056, 0.0, 0.0, 0.07293, 0.35947, 0.03227,...</td>\n",
       "    </tr>\n",
       "    <tr>\n",
       "      <th>11</th>\n",
       "      <td>1.024626</td>\n",
       "      <td>0.119768</td>\n",
       "      <td>8.555076</td>\n",
       "      <td>2019-12-01</td>\n",
       "      <td>2019-12-31</td>\n",
       "      <td>[0.39056, 0.0, 0.0, 0.07293, 0.35947, 0.03227,...</td>\n",
       "      <td>[0.42705, 0.0, 0.02344, 0.09869, 0.28769, 0.03...</td>\n",
       "    </tr>\n",
       "  </tbody>\n",
       "</table>\n",
       "</div>"
      ],
      "text/plain": [
       "    retorno_periodo  volatilidade    sharpe     inicio        fim                                       pesos_atuais                                        novos_pesos\n",
       "0          0.640143      0.151634  4.221642 2019-01-01 2019-01-31  [0.60864, 0.0, 0.0, 0.0, 0.28245, 0.0, 0.0, 0....  [0.59299, 0.0, 0.0, 0.0, 0.31117, 0.0, 0.0, 0....\n",
       "1          0.282632      0.155615  1.816225 2019-02-01 2019-02-28  [0.59299, 0.0, 0.0, 0.0, 0.31117, 0.0, 0.0, 0....  [0.59409, 0.0, 0.0, 0.0, 0.30293, 0.0, 0.0, 0....\n",
       "2          0.158073      0.140737  1.123179 2019-03-01 2019-03-31  [0.59409, 0.0, 0.0, 0.0, 0.30293, 0.0, 0.0, 0....  [0.57639, 0.0, 0.0, 0.0, 0.31154, 0.0, 0.0, 0....\n",
       "3          0.293840      0.125445  2.342392 2019-04-01 2019-04-30  [0.57639, 0.0, 0.0, 0.0, 0.31154, 0.0, 0.0, 0....  [0.53957, 0.0, 0.0, 0.0, 0.33887, 0.0, 0.0, 0....\n",
       "4          0.440760      0.176630  2.495386 2019-05-01 2019-05-31  [0.53957, 0.0, 0.0, 0.0, 0.33887, 0.0, 0.0, 0....  [0.47281, 0.0, 0.0, 0.0, 0.38004, 0.0, 0.0, 0....\n",
       "5          0.617426      0.162354  3.802948 2019-06-01 2019-06-30  [0.47281, 0.0, 0.0, 0.0, 0.38004, 0.0, 0.0, 0....  [0.45391, 0.0, 0.0, 0.0, 0.39099, 0.0, 0.0, 0....\n",
       "6         -0.125535      0.211234 -0.594291 2019-07-01 2019-07-31  [0.45391, 0.0, 0.0, 0.0, 0.39099, 0.0, 0.0, 0....  [0.44798, 0.0, 0.0, 0.0, 0.40857, 0.0, 0.0, 0....\n",
       "7         -0.321979      0.188685 -1.706442 2019-08-01 2019-08-31  [0.44798, 0.0, 0.0, 0.0, 0.40857, 0.0, 0.0, 0....  [0.37637, 0.0, 0.0, 0.0, 0.46713, 0.0, 0.0, 0....\n",
       "8          0.135463      0.140837  0.961842 2019-09-01 2019-09-30  [0.37637, 0.0, 0.0, 0.0, 0.46713, 0.0, 0.0, 0....  [0.40435, 0.0, 0.0, 0.0, 0.44801, 0.0, 0.0, 0....\n",
       "9          0.088186      0.198335  0.444630 2019-10-01 2019-10-31  [0.40435, 0.0, 0.0, 0.0, 0.44801, 0.0, 0.0, 0....  [0.38066, 0.0, 0.0, 0.0, 0.46535, 0.0, 0.0, 0....\n",
       "10         0.077423      0.114726  0.674858 2019-11-01 2019-11-30  [0.38066, 0.0, 0.0, 0.0, 0.46535, 0.0, 0.0, 0....  [0.39056, 0.0, 0.0, 0.07293, 0.35947, 0.03227,...\n",
       "11         1.024626      0.119768  8.555076 2019-12-01 2019-12-31  [0.39056, 0.0, 0.0, 0.07293, 0.35947, 0.03227,...  [0.42705, 0.0, 0.02344, 0.09869, 0.28769, 0.03..."
      ]
     },
     "execution_count": 344,
     "metadata": {},
     "output_type": "execute_result"
    }
   ],
   "source": [
    "pd.DataFrame(simulacoes['w>0']['tang']['valor'])"
   ]
  },
  {
   "cell_type": "code",
   "execution_count": null,
   "id": "ddeb63a8",
   "metadata": {
    "scrolled": true
   },
   "outputs": [],
   "source": []
  },
  {
   "cell_type": "code",
   "execution_count": 44,
   "id": "97eb623a",
   "metadata": {
    "scrolled": true
   },
   "outputs": [
    {
     "data": {
      "text/html": [
       "<div>\n",
       "<style scoped>\n",
       "    .dataframe tbody tr th:only-of-type {\n",
       "        vertical-align: middle;\n",
       "    }\n",
       "\n",
       "    .dataframe tbody tr th {\n",
       "        vertical-align: top;\n",
       "    }\n",
       "\n",
       "    .dataframe thead th {\n",
       "        text-align: right;\n",
       "    }\n",
       "</style>\n",
       "<table border=\"1\" class=\"dataframe\">\n",
       "  <thead>\n",
       "    <tr style=\"text-align: right;\">\n",
       "      <th></th>\n",
       "      <th>retorno_periodo</th>\n",
       "      <th>volatilidade</th>\n",
       "      <th>sharpe</th>\n",
       "      <th>inicio</th>\n",
       "      <th>fim</th>\n",
       "      <th>pesos_atuais</th>\n",
       "      <th>novos_pesos</th>\n",
       "    </tr>\n",
       "  </thead>\n",
       "  <tbody>\n",
       "    <tr>\n",
       "      <th>0</th>\n",
       "      <td>1.461331</td>\n",
       "      <td>0.142276</td>\n",
       "      <td>10.271111</td>\n",
       "      <td>2019-01-01</td>\n",
       "      <td>2019-01-31</td>\n",
       "      <td>[0.25, 0.25, 0.25, 0.25]</td>\n",
       "      <td>[0.25, 0.25, 0.25, 0.25]</td>\n",
       "    </tr>\n",
       "    <tr>\n",
       "      <th>1</th>\n",
       "      <td>-0.193585</td>\n",
       "      <td>0.156312</td>\n",
       "      <td>-1.238454</td>\n",
       "      <td>2019-02-01</td>\n",
       "      <td>2019-02-28</td>\n",
       "      <td>[0.25, 0.25, 0.25, 0.25]</td>\n",
       "      <td>[0.25, 0.25, 0.25, 0.25]</td>\n",
       "    </tr>\n",
       "    <tr>\n",
       "      <th>2</th>\n",
       "      <td>-0.134353</td>\n",
       "      <td>0.235638</td>\n",
       "      <td>-0.570164</td>\n",
       "      <td>2019-03-01</td>\n",
       "      <td>2019-03-31</td>\n",
       "      <td>[0.25, 0.25, 0.25, 0.25]</td>\n",
       "      <td>[0.25, 0.25, 0.25, 0.25]</td>\n",
       "    </tr>\n",
       "    <tr>\n",
       "      <th>3</th>\n",
       "      <td>0.169700</td>\n",
       "      <td>0.130379</td>\n",
       "      <td>1.301585</td>\n",
       "      <td>2019-04-01</td>\n",
       "      <td>2019-04-30</td>\n",
       "      <td>[0.25, 0.25, 0.25, 0.25]</td>\n",
       "      <td>[0.25, 0.25, 0.25, 0.25]</td>\n",
       "    </tr>\n",
       "    <tr>\n",
       "      <th>4</th>\n",
       "      <td>0.158851</td>\n",
       "      <td>0.190879</td>\n",
       "      <td>0.832211</td>\n",
       "      <td>2019-05-01</td>\n",
       "      <td>2019-05-31</td>\n",
       "      <td>[0.25, 0.25, 0.25, 0.25]</td>\n",
       "      <td>[0.25, 0.25, 0.25, 0.25]</td>\n",
       "    </tr>\n",
       "    <tr>\n",
       "      <th>5</th>\n",
       "      <td>0.896585</td>\n",
       "      <td>0.124233</td>\n",
       "      <td>7.216936</td>\n",
       "      <td>2019-06-01</td>\n",
       "      <td>2019-06-30</td>\n",
       "      <td>[0.25, 0.25, 0.25, 0.25]</td>\n",
       "      <td>[0.25, 0.25, 0.25, 0.25]</td>\n",
       "    </tr>\n",
       "    <tr>\n",
       "      <th>6</th>\n",
       "      <td>0.624649</td>\n",
       "      <td>0.133604</td>\n",
       "      <td>4.675365</td>\n",
       "      <td>2019-07-01</td>\n",
       "      <td>2019-07-31</td>\n",
       "      <td>[0.25, 0.25, 0.25, 0.25]</td>\n",
       "      <td>[0.25, 0.25, 0.25, 0.25]</td>\n",
       "    </tr>\n",
       "    <tr>\n",
       "      <th>7</th>\n",
       "      <td>0.350083</td>\n",
       "      <td>0.246292</td>\n",
       "      <td>1.421415</td>\n",
       "      <td>2019-08-01</td>\n",
       "      <td>2019-08-31</td>\n",
       "      <td>[0.25, 0.25, 0.25, 0.25]</td>\n",
       "      <td>[0.25, 0.25, 0.25, 0.25]</td>\n",
       "    </tr>\n",
       "    <tr>\n",
       "      <th>8</th>\n",
       "      <td>0.242578</td>\n",
       "      <td>0.127174</td>\n",
       "      <td>1.907445</td>\n",
       "      <td>2019-09-01</td>\n",
       "      <td>2019-09-30</td>\n",
       "      <td>[0.25, 0.25, 0.25, 0.25]</td>\n",
       "      <td>[0.25, 0.25, 0.25, 0.25]</td>\n",
       "    </tr>\n",
       "    <tr>\n",
       "      <th>9</th>\n",
       "      <td>0.178375</td>\n",
       "      <td>0.139127</td>\n",
       "      <td>1.282100</td>\n",
       "      <td>2019-10-01</td>\n",
       "      <td>2019-10-31</td>\n",
       "      <td>[0.25, 0.25, 0.25, 0.25]</td>\n",
       "      <td>[0.25, 0.25, 0.25, 0.25]</td>\n",
       "    </tr>\n",
       "    <tr>\n",
       "      <th>10</th>\n",
       "      <td>0.572243</td>\n",
       "      <td>0.161359</td>\n",
       "      <td>3.546404</td>\n",
       "      <td>2019-11-01</td>\n",
       "      <td>2019-11-30</td>\n",
       "      <td>[0.25, 0.25, 0.25, 0.25]</td>\n",
       "      <td>[0.25, 0.25, 0.25, 0.25]</td>\n",
       "    </tr>\n",
       "    <tr>\n",
       "      <th>11</th>\n",
       "      <td>1.968748</td>\n",
       "      <td>0.101897</td>\n",
       "      <td>19.320883</td>\n",
       "      <td>2019-12-01</td>\n",
       "      <td>2019-12-31</td>\n",
       "      <td>[0.25, 0.25, 0.25, 0.25]</td>\n",
       "      <td>[0.25, 0.25, 0.25, 0.25]</td>\n",
       "    </tr>\n",
       "  </tbody>\n",
       "</table>\n",
       "</div>"
      ],
      "text/plain": [
       "    retorno_periodo  volatilidade     sharpe     inicio        fim  \\\n",
       "0          1.461331      0.142276  10.271111 2019-01-01 2019-01-31   \n",
       "1         -0.193585      0.156312  -1.238454 2019-02-01 2019-02-28   \n",
       "2         -0.134353      0.235638  -0.570164 2019-03-01 2019-03-31   \n",
       "3          0.169700      0.130379   1.301585 2019-04-01 2019-04-30   \n",
       "4          0.158851      0.190879   0.832211 2019-05-01 2019-05-31   \n",
       "5          0.896585      0.124233   7.216936 2019-06-01 2019-06-30   \n",
       "6          0.624649      0.133604   4.675365 2019-07-01 2019-07-31   \n",
       "7          0.350083      0.246292   1.421415 2019-08-01 2019-08-31   \n",
       "8          0.242578      0.127174   1.907445 2019-09-01 2019-09-30   \n",
       "9          0.178375      0.139127   1.282100 2019-10-01 2019-10-31   \n",
       "10         0.572243      0.161359   3.546404 2019-11-01 2019-11-30   \n",
       "11         1.968748      0.101897  19.320883 2019-12-01 2019-12-31   \n",
       "\n",
       "                pesos_atuais               novos_pesos  \n",
       "0   [0.25, 0.25, 0.25, 0.25]  [0.25, 0.25, 0.25, 0.25]  \n",
       "1   [0.25, 0.25, 0.25, 0.25]  [0.25, 0.25, 0.25, 0.25]  \n",
       "2   [0.25, 0.25, 0.25, 0.25]  [0.25, 0.25, 0.25, 0.25]  \n",
       "3   [0.25, 0.25, 0.25, 0.25]  [0.25, 0.25, 0.25, 0.25]  \n",
       "4   [0.25, 0.25, 0.25, 0.25]  [0.25, 0.25, 0.25, 0.25]  \n",
       "5   [0.25, 0.25, 0.25, 0.25]  [0.25, 0.25, 0.25, 0.25]  \n",
       "6   [0.25, 0.25, 0.25, 0.25]  [0.25, 0.25, 0.25, 0.25]  \n",
       "7   [0.25, 0.25, 0.25, 0.25]  [0.25, 0.25, 0.25, 0.25]  \n",
       "8   [0.25, 0.25, 0.25, 0.25]  [0.25, 0.25, 0.25, 0.25]  \n",
       "9   [0.25, 0.25, 0.25, 0.25]  [0.25, 0.25, 0.25, 0.25]  \n",
       "10  [0.25, 0.25, 0.25, 0.25]  [0.25, 0.25, 0.25, 0.25]  \n",
       "11  [0.25, 0.25, 0.25, 0.25]  [0.25, 0.25, 0.25, 0.25]  "
      ]
     },
     "execution_count": 44,
     "metadata": {},
     "output_type": "execute_result"
    }
   ],
   "source": [
    "pd.DataFrame(simulacoes['ingenua']['ingenua']['valor'])"
   ]
  },
  {
   "cell_type": "code",
   "execution_count": 45,
   "id": "a99038cc",
   "metadata": {
    "scrolled": false
   },
   "outputs": [
    {
     "data": {
      "text/html": [
       "<div>\n",
       "<style scoped>\n",
       "    .dataframe tbody tr th:only-of-type {\n",
       "        vertical-align: middle;\n",
       "    }\n",
       "\n",
       "    .dataframe tbody tr th {\n",
       "        vertical-align: top;\n",
       "    }\n",
       "\n",
       "    .dataframe thead th {\n",
       "        text-align: right;\n",
       "    }\n",
       "</style>\n",
       "<table border=\"1\" class=\"dataframe\">\n",
       "  <thead>\n",
       "    <tr style=\"text-align: right;\">\n",
       "      <th></th>\n",
       "      <th>retorno_periodo</th>\n",
       "      <th>volatilidade</th>\n",
       "      <th>sharpe</th>\n",
       "      <th>inicio</th>\n",
       "      <th>fim</th>\n",
       "      <th>pesos_atuais</th>\n",
       "      <th>novos_pesos</th>\n",
       "    </tr>\n",
       "  </thead>\n",
       "  <tbody>\n",
       "    <tr>\n",
       "      <th>0</th>\n",
       "      <td>1.448542</td>\n",
       "      <td>0.154701</td>\n",
       "      <td>9.363504</td>\n",
       "      <td>2019-01-01</td>\n",
       "      <td>2019-01-31</td>\n",
       "      <td>[-0.1542, 0.34283, -0.18863, 1.0]</td>\n",
       "      <td>[-0.14931, 0.32728, -0.16919, 0.99122]</td>\n",
       "    </tr>\n",
       "    <tr>\n",
       "      <th>1</th>\n",
       "      <td>-0.120164</td>\n",
       "      <td>0.136347</td>\n",
       "      <td>-0.881311</td>\n",
       "      <td>2019-02-01</td>\n",
       "      <td>2019-02-28</td>\n",
       "      <td>[-0.14931, 0.32728, -0.16919, 0.99122]</td>\n",
       "      <td>[-0.14954, 0.33298, -0.17971, 0.99627]</td>\n",
       "    </tr>\n",
       "    <tr>\n",
       "      <th>2</th>\n",
       "      <td>-0.094540</td>\n",
       "      <td>0.192570</td>\n",
       "      <td>-0.490938</td>\n",
       "      <td>2019-03-01</td>\n",
       "      <td>2019-03-31</td>\n",
       "      <td>[-0.14954, 0.33298, -0.17971, 0.99627]</td>\n",
       "      <td>[-0.15556, 0.34601, -0.18473, 0.99427]</td>\n",
       "    </tr>\n",
       "    <tr>\n",
       "      <th>3</th>\n",
       "      <td>0.134829</td>\n",
       "      <td>0.122149</td>\n",
       "      <td>1.103810</td>\n",
       "      <td>2019-04-01</td>\n",
       "      <td>2019-04-30</td>\n",
       "      <td>[-0.15556, 0.34601, -0.18473, 0.99427]</td>\n",
       "      <td>[-0.15637, 0.33641, -0.17207, 0.99203]</td>\n",
       "    </tr>\n",
       "    <tr>\n",
       "      <th>4</th>\n",
       "      <td>-0.339745</td>\n",
       "      <td>0.166958</td>\n",
       "      <td>-2.034917</td>\n",
       "      <td>2019-05-01</td>\n",
       "      <td>2019-05-31</td>\n",
       "      <td>[-0.15637, 0.33641, -0.17207, 0.99203]</td>\n",
       "      <td>[-0.14995, 0.32201, -0.14681, 0.97475]</td>\n",
       "    </tr>\n",
       "    <tr>\n",
       "      <th>5</th>\n",
       "      <td>0.800872</td>\n",
       "      <td>0.098694</td>\n",
       "      <td>8.114726</td>\n",
       "      <td>2019-06-01</td>\n",
       "      <td>2019-06-30</td>\n",
       "      <td>[-0.14995, 0.32201, -0.14681, 0.97475]</td>\n",
       "      <td>[-0.14109, 0.35606, -0.17979, 0.96482]</td>\n",
       "    </tr>\n",
       "    <tr>\n",
       "      <th>6</th>\n",
       "      <td>0.557937</td>\n",
       "      <td>0.117034</td>\n",
       "      <td>4.767321</td>\n",
       "      <td>2019-07-01</td>\n",
       "      <td>2019-07-31</td>\n",
       "      <td>[-0.14109, 0.35606, -0.17979, 0.96482]</td>\n",
       "      <td>[-0.14805, 0.38173, -0.17937, 0.94569]</td>\n",
       "    </tr>\n",
       "    <tr>\n",
       "      <th>7</th>\n",
       "      <td>0.577616</td>\n",
       "      <td>0.240297</td>\n",
       "      <td>2.403761</td>\n",
       "      <td>2019-08-01</td>\n",
       "      <td>2019-08-31</td>\n",
       "      <td>[-0.14805, 0.38173, -0.17937, 0.94569]</td>\n",
       "      <td>[-0.13435, 0.37889, -0.21051, 0.96598]</td>\n",
       "    </tr>\n",
       "    <tr>\n",
       "      <th>8</th>\n",
       "      <td>-0.103873</td>\n",
       "      <td>0.132355</td>\n",
       "      <td>-0.784807</td>\n",
       "      <td>2019-09-01</td>\n",
       "      <td>2019-09-30</td>\n",
       "      <td>[-0.13435, 0.37889, -0.21051, 0.96598]</td>\n",
       "      <td>[-0.12957, 0.368, -0.1922, 0.95377]</td>\n",
       "    </tr>\n",
       "    <tr>\n",
       "      <th>9</th>\n",
       "      <td>0.510829</td>\n",
       "      <td>0.119328</td>\n",
       "      <td>4.280876</td>\n",
       "      <td>2019-10-01</td>\n",
       "      <td>2019-10-31</td>\n",
       "      <td>[-0.12957, 0.368, -0.1922, 0.95377]</td>\n",
       "      <td>[-0.13787, 0.37712, -0.20044, 0.96118]</td>\n",
       "    </tr>\n",
       "    <tr>\n",
       "      <th>10</th>\n",
       "      <td>0.714673</td>\n",
       "      <td>0.167225</td>\n",
       "      <td>4.273729</td>\n",
       "      <td>2019-11-01</td>\n",
       "      <td>2019-11-30</td>\n",
       "      <td>[-0.13787, 0.37712, -0.20044, 0.96118]</td>\n",
       "      <td>[-0.14438, 0.39776, -0.20637, 0.95299]</td>\n",
       "    </tr>\n",
       "    <tr>\n",
       "      <th>11</th>\n",
       "      <td>3.090066</td>\n",
       "      <td>0.157850</td>\n",
       "      <td>19.575929</td>\n",
       "      <td>2019-12-01</td>\n",
       "      <td>2019-12-31</td>\n",
       "      <td>[-0.14438, 0.39776, -0.20637, 0.95299]</td>\n",
       "      <td>[-0.14912, 0.45244, -0.26604, 0.96272]</td>\n",
       "    </tr>\n",
       "  </tbody>\n",
       "</table>\n",
       "</div>"
      ],
      "text/plain": [
       "    retorno_periodo  volatilidade     sharpe     inicio        fim  \\\n",
       "0          1.448542      0.154701   9.363504 2019-01-01 2019-01-31   \n",
       "1         -0.120164      0.136347  -0.881311 2019-02-01 2019-02-28   \n",
       "2         -0.094540      0.192570  -0.490938 2019-03-01 2019-03-31   \n",
       "3          0.134829      0.122149   1.103810 2019-04-01 2019-04-30   \n",
       "4         -0.339745      0.166958  -2.034917 2019-05-01 2019-05-31   \n",
       "5          0.800872      0.098694   8.114726 2019-06-01 2019-06-30   \n",
       "6          0.557937      0.117034   4.767321 2019-07-01 2019-07-31   \n",
       "7          0.577616      0.240297   2.403761 2019-08-01 2019-08-31   \n",
       "8         -0.103873      0.132355  -0.784807 2019-09-01 2019-09-30   \n",
       "9          0.510829      0.119328   4.280876 2019-10-01 2019-10-31   \n",
       "10         0.714673      0.167225   4.273729 2019-11-01 2019-11-30   \n",
       "11         3.090066      0.157850  19.575929 2019-12-01 2019-12-31   \n",
       "\n",
       "                              pesos_atuais  \\\n",
       "0        [-0.1542, 0.34283, -0.18863, 1.0]   \n",
       "1   [-0.14931, 0.32728, -0.16919, 0.99122]   \n",
       "2   [-0.14954, 0.33298, -0.17971, 0.99627]   \n",
       "3   [-0.15556, 0.34601, -0.18473, 0.99427]   \n",
       "4   [-0.15637, 0.33641, -0.17207, 0.99203]   \n",
       "5   [-0.14995, 0.32201, -0.14681, 0.97475]   \n",
       "6   [-0.14109, 0.35606, -0.17979, 0.96482]   \n",
       "7   [-0.14805, 0.38173, -0.17937, 0.94569]   \n",
       "8   [-0.13435, 0.37889, -0.21051, 0.96598]   \n",
       "9      [-0.12957, 0.368, -0.1922, 0.95377]   \n",
       "10  [-0.13787, 0.37712, -0.20044, 0.96118]   \n",
       "11  [-0.14438, 0.39776, -0.20637, 0.95299]   \n",
       "\n",
       "                               novos_pesos  \n",
       "0   [-0.14931, 0.32728, -0.16919, 0.99122]  \n",
       "1   [-0.14954, 0.33298, -0.17971, 0.99627]  \n",
       "2   [-0.15556, 0.34601, -0.18473, 0.99427]  \n",
       "3   [-0.15637, 0.33641, -0.17207, 0.99203]  \n",
       "4   [-0.14995, 0.32201, -0.14681, 0.97475]  \n",
       "5   [-0.14109, 0.35606, -0.17979, 0.96482]  \n",
       "6   [-0.14805, 0.38173, -0.17937, 0.94569]  \n",
       "7   [-0.13435, 0.37889, -0.21051, 0.96598]  \n",
       "8      [-0.12957, 0.368, -0.1922, 0.95377]  \n",
       "9   [-0.13787, 0.37712, -0.20044, 0.96118]  \n",
       "10  [-0.14438, 0.39776, -0.20637, 0.95299]  \n",
       "11  [-0.14912, 0.45244, -0.26604, 0.96272]  "
      ]
     },
     "execution_count": 45,
     "metadata": {},
     "output_type": "execute_result"
    }
   ],
   "source": [
    "pd.DataFrame(simulacoes['sem_restricao']['tang']['valor'])"
   ]
  },
  {
   "cell_type": "code",
   "execution_count": null,
   "id": "054b365d",
   "metadata": {
    "scrolled": true
   },
   "outputs": [],
   "source": []
  }
 ],
 "metadata": {
  "kernelspec": {
   "display_name": "Python 3",
   "language": "python",
   "name": "python3"
  },
  "language_info": {
   "codemirror_mode": {
    "name": "ipython",
    "version": 3
   },
   "file_extension": ".py",
   "mimetype": "text/x-python",
   "name": "python",
   "nbconvert_exporter": "python",
   "pygments_lexer": "ipython3",
   "version": "3.8.8"
  }
 },
 "nbformat": 4,
 "nbformat_minor": 5
}
